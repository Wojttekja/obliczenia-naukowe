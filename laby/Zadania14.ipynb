{
 "cells": [
  {
   "cell_type": "markdown",
   "metadata": {},
   "source": [
    "# Różniczkowanie i całkowania symboliczne"
   ]
  },
  {
   "cell_type": "code",
   "execution_count": 1,
   "metadata": {},
   "outputs": [],
   "source": [
    "import numpy, sympy, matplotlib.pyplot as plt"
   ]
  },
  {
   "cell_type": "code",
   "execution_count": 2,
   "metadata": {},
   "outputs": [
    {
     "data": {
      "text/latex": [
       "$\\displaystyle x$"
      ],
      "text/plain": [
       "x"
      ]
     },
     "execution_count": 2,
     "metadata": {},
     "output_type": "execute_result"
    }
   ],
   "source": [
    "x = sympy.symbols('x')\n",
    "x"
   ]
  },
  {
   "cell_type": "code",
   "execution_count": 3,
   "metadata": {},
   "outputs": [
    {
     "data": {
      "text/latex": [
       "$\\displaystyle x^{3} - x^{2}$"
      ],
      "text/plain": [
       "x**3 - x**2"
      ]
     },
     "execution_count": 3,
     "metadata": {},
     "output_type": "execute_result"
    }
   ],
   "source": [
    "f = x**3 - x**2\n",
    "f"
   ]
  },
  {
   "cell_type": "code",
   "execution_count": 4,
   "metadata": {},
   "outputs": [
    {
     "data": {
      "text/latex": [
       "$\\displaystyle 3 x^{2} - 2 x$"
      ],
      "text/plain": [
       "3*x**2 - 2*x"
      ]
     },
     "execution_count": 4,
     "metadata": {},
     "output_type": "execute_result"
    }
   ],
   "source": [
    "df = sympy.diff(f, x)\n",
    "df"
   ]
  },
  {
   "cell_type": "code",
   "execution_count": 5,
   "metadata": {},
   "outputs": [
    {
     "data": {
      "text/latex": [
       "$\\displaystyle x \\left(3 x - 2\\right)$"
      ],
      "text/plain": [
       "x*(3*x - 2)"
      ]
     },
     "execution_count": 5,
     "metadata": {},
     "output_type": "execute_result"
    }
   ],
   "source": [
    "sympy.simplify(df)"
   ]
  },
  {
   "cell_type": "markdown",
   "metadata": {},
   "source": [
    "### całka"
   ]
  },
  {
   "cell_type": "code",
   "execution_count": 6,
   "metadata": {},
   "outputs": [
    {
     "data": {
      "text/latex": [
       "$\\displaystyle \\frac{x^{4}}{4} - \\frac{x^{3}}{3}$"
      ],
      "text/plain": [
       "x**4/4 - x**3/3"
      ]
     },
     "execution_count": 6,
     "metadata": {},
     "output_type": "execute_result"
    }
   ],
   "source": [
    "iif = sympy.integrate(f, x)\n",
    "iif"
   ]
  },
  {
   "cell_type": "code",
   "execution_count": 7,
   "metadata": {},
   "outputs": [
    {
     "name": "stdout",
     "output_type": "stream",
     "text": [
      "11.25\n"
     ]
    }
   ],
   "source": [
    "calka = sympy.utilities.lambdify(x, iif)\n",
    "calka\n",
    "print(calka(3))"
   ]
  },
  {
   "cell_type": "markdown",
   "metadata": {},
   "source": [
    "# Kwadratury"
   ]
  },
  {
   "cell_type": "code",
   "execution_count": 8,
   "metadata": {},
   "outputs": [],
   "source": [
    "from scipy.integrate import trapz, simpson"
   ]
  },
  {
   "cell_type": "code",
   "execution_count": 9,
   "metadata": {},
   "outputs": [],
   "source": [
    "g = lambda x: numpy.cos(x)\n",
    "a = 0\n",
    "b = numpy.pi/2"
   ]
  },
  {
   "cell_type": "code",
   "execution_count": 10,
   "metadata": {},
   "outputs": [
    {
     "data": {
      "text/plain": [
       "1.0"
      ]
     },
     "execution_count": 10,
     "metadata": {},
     "output_type": "execute_result"
    }
   ],
   "source": [
    "dokladna = numpy.sin(b) - numpy.sin(a)\n",
    "dokladna"
   ]
  },
  {
   "cell_type": "markdown",
   "metadata": {},
   "source": [
    "## Kwadratura trapezów"
   ]
  },
  {
   "cell_type": "code",
   "execution_count": 11,
   "metadata": {},
   "outputs": [
    {
     "data": {
      "text/plain": [
       "0.999914360566363"
      ]
     },
     "execution_count": 11,
     "metadata": {},
     "output_type": "execute_result"
    }
   ],
   "source": [
    "x = numpy.linspace(a, b, 50)\n",
    "trapz(g(x), x=x)"
   ]
  },
  {
   "cell_type": "code",
   "execution_count": 12,
   "metadata": {},
   "outputs": [
    {
     "data": {
      "text/plain": [
       "0.9999977000609284"
      ]
     },
     "execution_count": 12,
     "metadata": {},
     "output_type": "execute_result"
    }
   ],
   "source": [
    "x = numpy.linspace(a, b, 300)\n",
    "trapz(g(x), x=x)"
   ]
  },
  {
   "cell_type": "markdown",
   "metadata": {},
   "source": [
    "## Kwadratura Simpsona"
   ]
  },
  {
   "cell_type": "code",
   "execution_count": 13,
   "metadata": {},
   "outputs": [
    {
     "data": {
      "text/plain": [
       "1.000000000338236"
      ]
     },
     "execution_count": 13,
     "metadata": {},
     "output_type": "execute_result"
    }
   ],
   "source": [
    "x = numpy.linspace(a, b, 101)\n",
    "simpson(g(x), x=x)"
   ]
  },
  {
   "cell_type": "markdown",
   "metadata": {},
   "source": [
    "#### PARZYSTA LICZBA WĘZŁÓW!!!"
   ]
  },
  {
   "cell_type": "code",
   "execution_count": 14,
   "metadata": {},
   "outputs": [
    {
     "data": {
      "text/plain": [
       "0.9999998326009376"
      ]
     },
     "execution_count": 14,
     "metadata": {},
     "output_type": "execute_result"
    }
   ],
   "source": [
    "x = numpy.linspace(a, b, 100)\n",
    "simpson(g(x), x=x)"
   ]
  },
  {
   "cell_type": "code",
   "execution_count": 15,
   "metadata": {},
   "outputs": [
    {
     "data": {
      "text/plain": [
       "1.0000000000041755"
      ]
     },
     "execution_count": 15,
     "metadata": {},
     "output_type": "execute_result"
    }
   ],
   "source": [
    "x = numpy.linspace(a, b, 301)\n",
    "simpson(g(x), x=x)"
   ]
  },
  {
   "cell_type": "markdown",
   "metadata": {},
   "source": [
    "# Zadanie 14.1\n",
    "Oblicz symbolicznie:"
   ]
  },
  {
   "cell_type": "markdown",
   "metadata": {},
   "source": [
    "#### a) pochodną funkcji $(x^2 + 1)e^{2x}$"
   ]
  },
  {
   "cell_type": "code",
   "execution_count": 16,
   "metadata": {},
   "outputs": [
    {
     "data": {
      "text/latex": [
       "$\\displaystyle \\left(x^{2} + 1\\right) e^{2 x}$"
      ],
      "text/plain": [
       "(x**2 + 1)*exp(2*x)"
      ]
     },
     "execution_count": 16,
     "metadata": {},
     "output_type": "execute_result"
    }
   ],
   "source": [
    "import sympy\n",
    "x = sympy.symbols('x')\n",
    "f = (x**2 + 1)*sympy.E**(2*x)\n",
    "f"
   ]
  },
  {
   "cell_type": "code",
   "execution_count": 17,
   "metadata": {},
   "outputs": [
    {
     "data": {
      "text/latex": [
       "$\\displaystyle 2 x e^{2 x} + 2 \\left(x^{2} + 1\\right) e^{2 x}$"
      ],
      "text/plain": [
       "2*x*exp(2*x) + 2*(x**2 + 1)*exp(2*x)"
      ]
     },
     "execution_count": 17,
     "metadata": {},
     "output_type": "execute_result"
    }
   ],
   "source": [
    "df = sympy.diff(f, x)\n",
    "df"
   ]
  },
  {
   "cell_type": "markdown",
   "metadata": {},
   "source": [
    "#### b) całkę z funkcji $-2xsin(x^2)cos(cos(x^2))$."
   ]
  },
  {
   "cell_type": "code",
   "execution_count": 18,
   "metadata": {},
   "outputs": [
    {
     "data": {
      "text/latex": [
       "$\\displaystyle - 2 x \\sin{\\left(x^{2} \\right)} \\cos{\\left(\\cos{\\left(x^{2} \\right)} \\right)}$"
      ],
      "text/plain": [
       "-2*x*sin(x**2)*cos(cos(x**2))"
      ]
     },
     "execution_count": 18,
     "metadata": {},
     "output_type": "execute_result"
    }
   ],
   "source": [
    "x = sympy.symbols('x')\n",
    "f = -2*x * sympy.sin(x**2)*sympy.cos(sympy.cos(x**2))\n",
    "f"
   ]
  },
  {
   "cell_type": "code",
   "execution_count": 19,
   "metadata": {},
   "outputs": [
    {
     "data": {
      "text/latex": [
       "$\\displaystyle \\sin{\\left(\\cos{\\left(x^{2} \\right)} \\right)}$"
      ],
      "text/plain": [
       "sin(cos(x**2))"
      ]
     },
     "execution_count": 19,
     "metadata": {},
     "output_type": "execute_result"
    }
   ],
   "source": [
    "iif = sympy.integrate(f, x)\n",
    "iif"
   ]
  },
  {
   "cell_type": "markdown",
   "metadata": {},
   "source": [
    "# Zadanie 14.2\n",
    "Napisz funkcję `pochodna1(f,x,h)`, która przybliża pochodną podanej funkcji\n",
    "rzeczywistej $f$ w punkcie $x$, korzystając ze wzoru\n",
    "$$ f`(x) \\approx \\frac{f(x+h) - f(x)}{h}$$\n"
   ]
  },
  {
   "cell_type": "code",
   "execution_count": 33,
   "metadata": {},
   "outputs": [],
   "source": [
    "pochodna1 = lambda f, x, h: (f(x+h) - f(x))/h"
   ]
  },
  {
   "cell_type": "markdown",
   "metadata": {},
   "source": [
    "oraz analogiczną funkcję `pochodna2(f,x,h)`, która przybliża pochodną korzystając ze wzoru\n",
    "$$ f`(x) \\approx \\frac{f(x+h) - f(x-h)}{2h} $$"
   ]
  },
  {
   "cell_type": "code",
   "execution_count": 21,
   "metadata": {},
   "outputs": [],
   "source": [
    "pochodna2 = lambda f, x, h : (f(x+h) - f(x-h)) / (2*h)"
   ]
  },
  {
   "cell_type": "markdown",
   "metadata": {},
   "source": [
    "Sprawdź obie te funkcje na przykładzie\n",
    "$$ f(x) := x^3 + 2x^2 + 3x + 4$$\n",
    "dla $x=1$\n",
    "Określ, jakie $h$ należy przyjąć, aby otrzymać przybliżenie $f′(1)$ z dokładnością do 5 cyfr po przecinku w przypadku każdego z tych przybliżeń. W którym przypadku można wybrać większe $h$?"
   ]
  },
  {
   "cell_type": "code",
   "execution_count": 22,
   "metadata": {},
   "outputs": [
    {
     "data": {
      "text/plain": [
       "<function _lambdifygenerated(x)>"
      ]
     },
     "execution_count": 22,
     "metadata": {},
     "output_type": "execute_result"
    }
   ],
   "source": [
    "from sympy.utilities import lambdify\n",
    "x = sympy.symbols('x')\n",
    "f = x**3 + 2*x**2 + 3*x + 4\n",
    "f_lambda = lambdify(x, f)\n",
    "f_lambda"
   ]
  },
  {
   "cell_type": "markdown",
   "metadata": {},
   "source": [
    "#### Faktyczna wartość pochodnej"
   ]
  },
  {
   "cell_type": "code",
   "execution_count": 23,
   "metadata": {},
   "outputs": [
    {
     "data": {
      "text/plain": [
       "10"
      ]
     },
     "execution_count": 23,
     "metadata": {},
     "output_type": "execute_result"
    }
   ],
   "source": [
    "df = sympy.diff(f, x)\n",
    "df_lambda = lambdify(x, f)\n",
    "y = df_lambda(1)\n",
    "y"
   ]
  },
  {
   "cell_type": "markdown",
   "metadata": {},
   "source": [
    "#### wzór 1"
   ]
  },
  {
   "cell_type": "code",
   "execution_count": 32,
   "metadata": {},
   "outputs": [
    {
     "data": {
      "text/plain": [
       "[1,\n",
       " 0.1,\n",
       " 0.01,\n",
       " 0.001,\n",
       " 0.0001,\n",
       " 1e-05,\n",
       " 1e-06,\n",
       " 1e-07,\n",
       " 1e-08,\n",
       " 1e-09,\n",
       " 1e-10,\n",
       " 1e-11,\n",
       " 1e-12,\n",
       " 1e-13,\n",
       " 1e-14,\n",
       " 1e-15,\n",
       " 1e-16]"
      ]
     },
     "execution_count": 32,
     "metadata": {},
     "output_type": "execute_result"
    }
   ],
   "source": [
    "mozliwe_h = [10**(-i) for i in range(17)]\n",
    "mozliwe_h"
   ]
  },
  {
   "cell_type": "code",
   "execution_count": 38,
   "metadata": {},
   "outputs": [
    {
     "name": "stdout",
     "output_type": "stream",
     "text": [
      "                        0         1\n",
      "h       wartość pochodnej      błąd\n",
      "1                    16.0       6.0\n",
      "0.1                 10.51      0.51\n",
      "0.01              10.0501    0.0501\n",
      "0.001           10.005001  0.005001\n",
      "0.0001            10.0005    0.0005\n",
      "1e-05            10.00005   0.00005\n",
      "1e-06           10.000005  0.000005\n",
      "1e-07           10.000001  0.000001\n",
      "1e-08                10.0       0.0\n",
      "1e-09           10.000001  0.000001\n",
      "1e-10           10.000001  0.000001\n",
      "1e-11           10.000001  0.000001\n",
      "1e-12           10.000889  0.000889\n",
      "1e-13            9.983125  0.016875\n",
      "1e-14            9.947598  0.052402\n",
      "1e-15           10.658141  0.658141\n",
      "1e-16                 0.0      10.0\n"
     ]
    }
   ],
   "source": [
    "import pandas\n",
    "data = {\"h\": [\"wartość pochodnej\", \"błąd\"]}\n",
    "for h in mozliwe_h:\n",
    "    data.update({h:  [pochodna1(f_lambda, 1, h), abs(pochodna1(f_lambda, 1, h)-df_lambda(1))] })\n",
    "data_frame = pandas.DataFrame(data)\n",
    "print(data_frame.transpose())"
   ]
  },
  {
   "cell_type": "markdown",
   "metadata": {},
   "source": [
    "Potrzebne h: 1e-"
   ]
  }
 ],
 "metadata": {
  "kernelspec": {
   "display_name": "Python 3",
   "language": "python",
   "name": "python3"
  },
  "language_info": {
   "codemirror_mode": {
    "name": "ipython",
    "version": 3
   },
   "file_extension": ".py",
   "mimetype": "text/x-python",
   "name": "python",
   "nbconvert_exporter": "python",
   "pygments_lexer": "ipython3",
   "version": "3.11.2"
  }
 },
 "nbformat": 4,
 "nbformat_minor": 2
}
