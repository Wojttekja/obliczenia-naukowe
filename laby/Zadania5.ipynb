{
 "cells": [
  {
   "cell_type": "markdown",
   "metadata": {},
   "source": [
    "# Zadanie 5.1\n",
    "Rozwiąż układ równań:\n",
    "$$\\begin{cases}\n",
    "x + 2y = 1 \\\\\n",
    "3x + z = 2 \\\\\n",
    "x + 7y -5z = 3\n",
    "\\end{cases}$$"
   ]
  },
  {
   "cell_type": "code",
   "execution_count": 1,
   "metadata": {},
   "outputs": [
    {
     "name": "stdout",
     "output_type": "stream",
     "text": [
      "x=0.7599999999999999, y=0.1200000000000001, z=-0.2799999999999999\n"
     ]
    }
   ],
   "source": [
    "import numpy as np\n",
    "A = np.array([[1, 2, 0], [3, 0, 1], [1, 7, -5]])\n",
    "b = np.array([1, 2, 3])\n",
    "result = np.linalg.solve(A, b)\n",
    "print(f\"x={result[0]}, y={result[1]}, z={result[2]}\")"
   ]
  },
  {
   "cell_type": "markdown",
   "metadata": {},
   "source": [
    "# Zadanie 5.2\n",
    "Napisz procedurę, która generuje losową macierz kwadratową o wyrazach całkowitych z zakresu $[−10, 10]$ ustalonego wymiaru $N \\times N$."
   ]
  },
  {
   "cell_type": "code",
   "execution_count": 2,
   "metadata": {},
   "outputs": [
    {
     "data": {
      "text/plain": [
       "array([[  0,  -7,   9,  -8,  -3,  -8,   9,  -1,   1,  -8],\n",
       "       [ -3,  -9,   1,   2,  -7,  -5,   7,  -7,   5,   7],\n",
       "       [ -5,  -4,   8, -10,  -9,   0, -10,  10,   7,  -4],\n",
       "       [ -2,   4,   6,   3,  -3,  -8,   7,   4,  -7,  -4],\n",
       "       [ -5,  -7,  10,  -6,  -1, -10, -10,  10,   0,  -4],\n",
       "       [ -4,   9,   3,  -2,  -4,   8,   6,   8,  10,  -4],\n",
       "       [  5,  -9,  10,   0,  -8,  -9,   8,  -8,   1,  10],\n",
       "       [ -9,   9,   3,  -7,  -6,   7,  -7,  10,   3,   0],\n",
       "       [ -7,   5,   8,   6,  -6,  -3,  10,  10, -10,   1],\n",
       "       [ -9,   3,  -4,   0, -10,  -5,  -4,  -5,  -4,   8]])"
      ]
     },
     "execution_count": 2,
     "metadata": {},
     "output_type": "execute_result"
    }
   ],
   "source": [
    "from random import randint\n",
    "random_matrix = lambda N: np.array([[randint(-10, 10) for _ in range(N)] for __ in range(N)])\n",
    "random_matrix(10)"
   ]
  },
  {
   "cell_type": "markdown",
   "metadata": {},
   "source": [
    "# Zadanie 5.3\n",
    "Napisz procedurę, która generuje losowy wektor o wyrazach całkowitych z zakresu $[−10, 10]$ ustalonego wymiaru $N$."
   ]
  },
  {
   "cell_type": "code",
   "execution_count": 3,
   "metadata": {},
   "outputs": [
    {
     "data": {
      "text/plain": [
       "array([-2,  2, -3, 10, -5])"
      ]
     },
     "execution_count": 3,
     "metadata": {},
     "output_type": "execute_result"
    }
   ],
   "source": [
    "random_vector = lambda N: np.array([randint(-10, 10) for _ in range(N)])\n",
    "random_vector(5)"
   ]
  },
  {
   "cell_type": "markdown",
   "metadata": {},
   "source": [
    "# Zadanie 5.4\n",
    "Procedura numpy.linalg.solve(A, f) służy do rozwiązywania układu równań\n",
    "liniowych z macierzą $A$ oraz prawą stroną $f$ , tj. do znajdowania takiego $x$, że zachodzi $Ax = f$ .\n",
    "Sprawdź dokładność tej procedury wykorzystując losowo wygenerowaną macierz $10 \\times 10$ w\n",
    "następujący sposób:"
   ]
  },
  {
   "cell_type": "markdown",
   "metadata": {},
   "source": [
    "#### a) wygeneruj macierz $A$ procedurą z zadania 5.2,"
   ]
  },
  {
   "cell_type": "code",
   "execution_count": 4,
   "metadata": {},
   "outputs": [
    {
     "data": {
      "text/plain": [
       "array([[  5,   0,  -7, -10,  -1,   0,   0,  -5,   8,  10],\n",
       "       [ -5,   6,   0,   6,   7,  -6,  -9,  10,   0,  -6],\n",
       "       [  6,  -7,  -6,  -5,  10,  -8,  -4,  -4,  10,   1],\n",
       "       [  7,  -5,  -6,   3,  -1,  -9,   2,   0,  -1,  -9],\n",
       "       [  1,   8,  -2,   8,  -6,  -9,   6,  -7,  10,  -8],\n",
       "       [  5,   8,  -5,   6,   6, -10,   6,  -7,   3, -10],\n",
       "       [  2,  -9,   0,  -5,   1,  -1,   8,  -9,  -2,  -5],\n",
       "       [ -4,  -8,   1,  -4,  -3,   9,   3,  -8,   4,   6],\n",
       "       [  6,  10,  -1,  -8,   3, -10,   8,  -6,  -2,  -7],\n",
       "       [  5,  -1,  -3,  10,   3,   0,   1,  -8,  10,   9]])"
      ]
     },
     "execution_count": 4,
     "metadata": {},
     "output_type": "execute_result"
    }
   ],
   "source": [
    "A = random_matrix(10)\n",
    "A"
   ]
  },
  {
   "cell_type": "markdown",
   "metadata": {},
   "source": [
    "#### b) wygeneruj rozwiązanie $x$ wykorzystujac procedurę z zadania 5.3,"
   ]
  },
  {
   "cell_type": "code",
   "execution_count": 5,
   "metadata": {},
   "outputs": [
    {
     "data": {
      "text/plain": [
       "array([-4,  5,  1, -1,  1, 10, 10, -6,  7, -3])"
      ]
     },
     "execution_count": 5,
     "metadata": {},
     "output_type": "execute_result"
    }
   ],
   "source": [
    "x = random_vector(10)\n",
    "x"
   ]
  },
  {
   "cell_type": "markdown",
   "metadata": {},
   "source": [
    "#### c) określ $f$ jako $f = Ax$; w ten sposób otrzymasz prawą stronę dla znanego rozwiązania $x$,"
   ]
  },
  {
   "cell_type": "code",
   "execution_count": 6,
   "metadata": {},
   "outputs": [
    {
     "data": {
      "text/plain": [
       "array([  38, -141,  -79, -113,  126,   68,   78,  156,   59,   66])"
      ]
     },
     "execution_count": 6,
     "metadata": {},
     "output_type": "execute_result"
    }
   ],
   "source": [
    "f = A@x\n",
    "f"
   ]
  },
  {
   "cell_type": "markdown",
   "metadata": {},
   "source": [
    "#### d) znajdź przybliżone rozwiązanie $y$ przy pomocy numpy.linalg.solve,"
   ]
  },
  {
   "cell_type": "code",
   "execution_count": 7,
   "metadata": {},
   "outputs": [
    {
     "data": {
      "text/plain": [
       "array([-4.,  5.,  1., -1.,  1., 10., 10., -6.,  7., -3.])"
      ]
     },
     "execution_count": 7,
     "metadata": {},
     "output_type": "execute_result"
    }
   ],
   "source": [
    "y = np.linalg.solve(A, f)\n",
    "y"
   ]
  },
  {
   "cell_type": "markdown",
   "metadata": {},
   "source": [
    "#### e) oblicz błąd rozwiązania $||x − y||$ korzystając z numpy.linalg.norm."
   ]
  },
  {
   "cell_type": "code",
   "execution_count": 8,
   "metadata": {},
   "outputs": [
    {
     "data": {
      "text/plain": [
       "7.292348470562334e-14"
      ]
     },
     "execution_count": 8,
     "metadata": {},
     "output_type": "execute_result"
    }
   ],
   "source": [
    "np.linalg.norm(x-y)"
   ]
  },
  {
   "cell_type": "markdown",
   "metadata": {},
   "source": [
    "### Powtórz te kroki kilka razy. Czy błąd zmienia się w istotny sposób?"
   ]
  },
  {
   "cell_type": "code",
   "execution_count": 9,
   "metadata": {},
   "outputs": [],
   "source": [
    "def zadanie54(N):\n",
    "    A = random_matrix(N)\n",
    "    x = random_vector(N)\n",
    "    f = A@x\n",
    "    y = np.linalg.solve(A, f)\n",
    "    return np.linalg.norm(x-y)"
   ]
  },
  {
   "cell_type": "code",
   "execution_count": 10,
   "metadata": {},
   "outputs": [
    {
     "name": "stdout",
     "output_type": "stream",
     "text": [
      "2 0.0\n",
      "3 8.881784197001252e-16\n",
      "4 4.440892098500626e-15\n",
      "5 2.175583928816829e-15\n",
      "6 3.263375893225244e-15\n",
      "7 1.4217791915866692e-15\n",
      "8 8.797626053078082e-15\n",
      "9 3.163200557364874e-14\n",
      "10 7.886360894245588e-14\n",
      "11 2.949065994520098e-14\n",
      "12 2.11723926232214e-14\n",
      "13 3.732463474195437e-14\n",
      "14 8.592258327044609e-14\n",
      "15 7.910304159789262e-14\n",
      "16 3.51973175174945e-14\n",
      "17 2.1743654872442942e-14\n",
      "18 3.852143945921605e-14\n",
      "19 2.6126669516088785e-14\n",
      "20 7.77730334494629e-14\n",
      "21 1.1653490549152214e-13\n",
      "22 3.5674110799001585e-14\n",
      "23 6.092464301157028e-14\n",
      "24 2.236933362899825e-14\n",
      "25 2.1932829907251663e-13\n",
      "26 6.519930636982605e-14\n",
      "27 1.9667273740014977e-13\n",
      "28 1.8788042821072727e-13\n",
      "29 2.1851684801813176e-13\n"
     ]
    }
   ],
   "source": [
    "for n in range(2, 30):\n",
    "    print(n, zadanie54(n))"
   ]
  },
  {
   "cell_type": "markdown",
   "metadata": {},
   "source": [
    "# Zadanie 5.5\n",
    "Napisz program, który 1000 razy wykona procedurę z zadania 5.4, generując za każdym razem nową macierz $A$ i wektor $x$. W każdej iteracji zapisuj otrzymany błąd oraz uwarunkowanie wylosowanej macierzy (numpy.linalg.cond). Wykonaj wykres punktowy błędów w zależności od uwarunkowania. Czy można zaobserwować jakąś zależność?"
   ]
  },
  {
   "cell_type": "code",
   "execution_count": 11,
   "metadata": {},
   "outputs": [],
   "source": [
    "def zad55(N):\n",
    "    A = random_matrix(N)\n",
    "    x = random_vector(N)\n",
    "    f = A@x\n",
    "    y = np.linalg.solve(A, f)\n",
    "    return np.linalg.cond(A), np.linalg.norm(x-y)"
   ]
  },
  {
   "cell_type": "code",
   "execution_count": 12,
   "metadata": {},
   "outputs": [
    {
     "data": {
      "image/png": "[encoded data removed]",
      "text/plain": [
       "<Figure size 640x480 with 1 Axes>"
      ]
     },
     "metadata": {},
     "output_type": "display_data"
    }
   ],
   "source": [
    "results = [zad55(10) for _ in range(1000)]\n",
    "import matplotlib.pyplot as plt\n",
    "plt.plot([i[0] for i in results], [i[1] for i in results], marker = \".\", linestyle=\"\")\n",
    "plt.xscale(\"log\")\n",
    "plt.yscale(\"log\")\n",
    "plt.show()"
   ]
  },
  {
   "cell_type": "markdown",
   "metadata": {},
   "source": [
    "# Zadanie 5.6\n"
   ]
  },
  {
   "cell_type": "markdown",
   "metadata": {},
   "source": [
    "Wykonaj alternatywną wersję algorytmu z zadania 5.4, która zamiast korzystać z\n",
    "procedury numpy.linalg.solve wykorzysta do rozwiązania układu równań macierz odwrotną\n",
    "$A^{−1}$ tj. rozwiąże układ równań metodą $x = A^{−1}f$ .\n",
    "Sprawdź dokładność takiej metody procedurą analogiczną jak w zadaniu 5.4, tj.\n",
    "#### a) wygeneruj macierz $A$ procedurą z zadania 5.2,\n",
    "#### b) wygeneruj rozwiązanie x wykorzystujac procedurę z zadania 5.3,\n",
    "#### c) określ $f$ jako $f = Ax$; w ten sposób otrzymasz prawą stronę dla znanego rozwiązania $x$,\n",
    "#### d) znajdź macierz odwrotną $A^{−1}$ korzystając z numpy.linalg.inv,\n",
    "#### e) znajdź przybliżone rozwiązanie $y = A^{−1}f$ ,\n",
    "#### f) oblicz błąd rozwiązania $||x − y||$ korzystając z numpy.linalg.norm."
   ]
  },
  {
   "cell_type": "code",
   "execution_count": 13,
   "metadata": {},
   "outputs": [
    {
     "data": {
      "text/plain": [
       "1.3333992803541038e-12"
      ]
     },
     "execution_count": 13,
     "metadata": {},
     "output_type": "execute_result"
    }
   ],
   "source": [
    "A = random_matrix(10)\n",
    "x = random_vector(10)\n",
    "f = A@x\n",
    "A_inv = np.linalg.inv(A)\n",
    "y = A_inv@f\n",
    "np.linalg.norm(x-y)"
   ]
  },
  {
   "cell_type": "markdown",
   "metadata": {},
   "source": [
    "Powtórz tę procedurę 1000 razy i dane umieść na wykresie błędu w zależności od uwarunkowania\n",
    "macierzy."
   ]
  },
  {
   "cell_type": "code",
   "execution_count": 14,
   "metadata": {},
   "outputs": [],
   "source": [
    "def zad56():\n",
    "    A = random_matrix(10)\n",
    "    x = random_vector(10)\n",
    "    f = A@x\n",
    "    A_inv = np.linalg.inv(A)\n",
    "    y = A_inv@f\n",
    "    return np.linalg.cond(A), np.linalg.norm(x-y)"
   ]
  },
  {
   "cell_type": "code",
   "execution_count": 16,
   "metadata": {},
   "outputs": [
    {
     "data": {
      "image/png": "[encoded data removed]",
      "text/plain": [
       "<Figure size 640x480 with 1 Axes>"
      ]
     },
     "metadata": {},
     "output_type": "display_data"
    }
   ],
   "source": [
    "results = [zad56() for _ in range(1000)]\n",
    "plt.plot([i[0] for i in results], [i[1] for i in results], marker = \".\", linestyle=\"\")\n",
    "plt.xscale(\"log\")\n",
    "plt.yscale(\"log\")\n",
    "plt.show()"
   ]
  },
  {
   "cell_type": "markdown",
   "metadata": {},
   "source": [
    "# Zadanie 5.7\n",
    "Dla macierzy wymiaru $200 \\times 200$ porównaj na wykresie błędy (w zależności od uwarunkowania macierzy) między metodą opierającą się o numpy.linalg.solve a metodą\n",
    "wykorzystującą odwrotność macierzy. Podobnie jak w przykładach powyżej, wykorzystaj po 1000 przypadków dla każdej metody."
   ]
  },
  {
   "cell_type": "code",
   "execution_count": null,
   "metadata": {},
   "outputs": [],
   "source": [
    "def zad56(N):\n",
    "    A = random_matrix(N)\n",
    "    x = random_vector(N)\n",
    "    f = A@x\n",
    "    A_inv = np.linalg.inv(A)\n",
    "    y = A_inv@f\n",
    "    return np.linalg.cond(A), np.linalg.norm(x-y)"
   ]
  },
  {
   "cell_type": "code",
   "execution_count": null,
   "metadata": {},
   "outputs": [],
   "source": [
    "results = [zad56(200) for _ in range(1000)]\n",
    "plt.plot([i[0] for i in results], [i[1] for i in results], marker = \".\", linestyle=\"\")\n",
    "plt.xscale(\"log\")\n",
    "plt.yscale(\"log\")\n",
    "plt.show()"
   ]
  },
  {
   "cell_type": "markdown",
   "metadata": {},
   "source": [
    "# Zadanie 5.8\n",
    "Wykonaj procedurę z zadania 5.5 dla różnych wielkości N generowanych macierzy: 10, 30, 100. Nanieś otrzymane wyniki na jeden wykres różnymi kolorami."
   ]
  },
  {
   "cell_type": "code",
   "execution_count": null,
   "metadata": {},
   "outputs": [],
   "source": [
    "results_10 = [zad55(10) for _ in range(1000)]\n",
    "results_30 = [zad55(30) for _ in range(1000)]\n",
    "results_100 = [zad55(100) for _ in range(1000)]"
   ]
  },
  {
   "cell_type": "code",
   "execution_count": null,
   "metadata": {},
   "outputs": [],
   "source": [
    "plt.plot([i[0] for i in results_10], [i[1] for i in results_10], marker = \".\", linestyle=\"\", color=\"green\", label=\"N=10\")\n",
    "plt.plot([i[0] for i in results_30], [i[1] for i in results_30], marker = \".\", linestyle=\"\", color=\"red\", label=\"N=30\")\n",
    "plt.plot([i[0] for i in results_100], [i[1] for i in results_100], marker = \".\", linestyle=\"\", color=\"blue\", label=\"N=100\")\n",
    "plt.xscale(\"log\")\n",
    "plt.yscale(\"log\")\n",
    "plt.legend()\n",
    "plt.show()"
   ]
  }
 ],
 "metadata": {
  "kernelspec": {
   "display_name": "Python 3",
   "language": "python",
   "name": "python3"
  },
  "language_info": {
   "codemirror_mode": {
    "name": "ipython",
    "version": 3
   },
   "file_extension": ".py",
   "mimetype": "text/x-python",
   "name": "python",
   "nbconvert_exporter": "python",
   "pygments_lexer": "ipython3",
   "version": "3.11.2"
  }
 },
 "nbformat": 4,
 "nbformat_minor": 2
}
