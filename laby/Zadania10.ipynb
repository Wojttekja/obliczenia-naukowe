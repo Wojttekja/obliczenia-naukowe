{
 "cells": [
  {
   "cell_type": "code",
   "execution_count": 2,
   "metadata": {},
   "outputs": [],
   "source": [
    "import scipy\n",
    "import numpy\n",
    "from random import randint\n",
    "import timeit"
   ]
  },
  {
   "cell_type": "markdown",
   "metadata": {},
   "source": [
    "# Zadanie 10.1\n",
    "Zaprogramuj funkcję zwracającą macierz $A_n$ w zależności od wymiaru $n$"
   ]
  },
  {
   "cell_type": "code",
   "execution_count": 3,
   "metadata": {},
   "outputs": [
    {
     "data": {
      "text/plain": [
       "array([[ 2., -1.,  0.,  0.,  0.],\n",
       "       [-1.,  2., -1.,  0.,  0.],\n",
       "       [ 0., -1.,  2., -1.,  0.],\n",
       "       [ 0.,  0., -1.,  2., -1.],\n",
       "       [ 0.,  0.,  0., -1.,  2.]])"
      ]
     },
     "execution_count": 3,
     "metadata": {},
     "output_type": "execute_result"
    }
   ],
   "source": [
    "def macierz(n):\n",
    "    diags = [[-1 for _ in range(n-1)], [2 for _ in range(n)], [-1 for _ in range(n-1)]]\n",
    "    return scipy.sparse.diags(diags, [-1, 0, 1]).toarray()\n",
    "macierz(5)"
   ]
  },
  {
   "cell_type": "markdown",
   "metadata": {},
   "source": [
    "# Zadanie 10.2\n",
    "Zaprogramuj funkcję zwracającą macierz $A_n$ w postaci rzadkiej w formacie spakowanych wierszy. Funkcja ma działać dla dużych $n$, w rodzaju $n = 1000000$."
   ]
  },
  {
   "cell_type": "code",
   "execution_count": 4,
   "metadata": {},
   "outputs": [
    {
     "data": {
      "text/plain": [
       "<1000000x1000000 sparse matrix of type '<class 'numpy.float64'>'\n",
       "\twith 2999998 stored elements in Compressed Sparse Row format>"
      ]
     },
     "execution_count": 4,
     "metadata": {},
     "output_type": "execute_result"
    }
   ],
   "source": [
    "def macierz_rzadka(n):\n",
    "    diags = [[-1 for _ in range(n-1)], [2 for _ in range(n)], [-1 for _ in range(n-1)]]\n",
    "    return scipy.sparse.diags(diags, [-1, 0, 1], format=\"csr\")\n",
    "macierz_rzadka(1_000_000)"
   ]
  },
  {
   "cell_type": "markdown",
   "metadata": {},
   "source": [
    "# Zadanie 10.3. \n",
    "Porównaj czasy rozwiązywania układu równań $A_nx = f$ dla macierzy gęstych\n",
    "$A_n$ z zadania `10.1` i dla wektorów $f$ wygenerowanych losowo. Określ złożoność czasową tego\n",
    "zadania w każdym z następujących przypadków: $\\\\$\n",
    "a) Rozwiązujemy metodą `numpy.linalg.solve.` $\\\\$\n",
    "b) Rozwiązujemy metodą odwracania macierzy. $\\\\$\n",
    "W każdym z tych przypadków określ, jak duże $n$ należy przyjąć, aby osiągnąć czas rozwiązywania dłuższy niż 10 s."
   ]
  },
  {
   "cell_type": "code",
   "execution_count": 6,
   "metadata": {},
   "outputs": [
    {
     "name": "stdout",
     "output_type": "stream",
     "text": [
      "7.479735649000077\n"
     ]
    }
   ],
   "source": [
    "wektor_f = lambda n : numpy.random.randint(0, 10, n)\n",
    "n = 3500\n",
    "A = macierz(n)\n",
    "f = wektor_f(n)\n",
    "print(timeit.timeit(\"numpy.linalg.solve(A, f)\", globals=globals(), number=1))"
   ]
  },
  {
   "cell_type": "code",
   "execution_count": 6,
   "metadata": {},
   "outputs": [
    {
     "name": "stdout",
     "output_type": "stream",
     "text": [
      "10.904144122963771\n"
     ]
    }
   ],
   "source": [
    "n = 2650\n",
    "A = macierz(n)\n",
    "f = wektor_f(n)\n",
    "print(timeit.timeit(\"f@numpy.linalg.inv(A)\", globals=globals(), number=1))"
   ]
  },
  {
   "cell_type": "markdown",
   "metadata": {},
   "source": [
    "# Zadanie 10.4\n",
    "Porównaj czasy rozwiązywania układu równań $A_nx = f$ dla macierzy rzadkich\n",
    "$A_n$ z zadania `10.2` i dla wektorów $f$ wygenerowanych losowo. Określ złożoność czasową tego\n",
    "zadania w każdym z następujących przypadków: $\\\\$\n",
    "a) Rozwiązujemy metodą `scipy.sparse.linalg.spsolve.` $\\\\$\n",
    "b) Rozwiązujemy metodą odwracania macierzy.$\\\\$\n",
    "W każdym z tych przypadków określ, jak duże `n` należy przyjąć, aby osiągnąć czas rozwiązywania dłuższy niż 10 s."
   ]
  },
  {
   "cell_type": "code",
   "execution_count": 7,
   "metadata": {},
   "outputs": [
    {
     "name": "stdout",
     "output_type": "stream",
     "text": [
      "4.538635797100142\n"
     ]
    }
   ],
   "source": [
    "n = 11_000_000\n",
    "A = macierz_rzadka(n)\n",
    "f = wektor_f(n)\n",
    "print(timeit.timeit(\"scipy.sparse.linalg.spsolve(A, f)\", globals=globals(), number=1))"
   ]
  },
  {
   "cell_type": "code",
   "execution_count": 1,
   "metadata": {},
   "outputs": [
    {
     "ename": "NameError",
     "evalue": "name 'macierz_rzadka' is not defined",
     "output_type": "error",
     "traceback": [
      "\u001b[0;31m---------------------------------------------------------------------------\u001b[0m",
      "\u001b[0;31mNameError\u001b[0m                                 Traceback (most recent call last)",
      "Cell \u001b[0;32mIn [1], line 2\u001b[0m\n\u001b[1;32m      1\u001b[0m n \u001b[38;5;241m=\u001b[39m \u001b[38;5;241m15_000\u001b[39m\n\u001b[0;32m----> 2\u001b[0m A \u001b[38;5;241m=\u001b[39m \u001b[43mmacierz_rzadka\u001b[49m(n)\n\u001b[1;32m      3\u001b[0m f \u001b[38;5;241m=\u001b[39m wektor_f(n)\n\u001b[1;32m      4\u001b[0m \u001b[38;5;28mprint\u001b[39m(timeit\u001b[38;5;241m.\u001b[39mtimeit(\u001b[38;5;124m\"\u001b[39m\u001b[38;5;124mscipy.sparse.linalg.inv(A)@f\u001b[39m\u001b[38;5;124m\"\u001b[39m, \u001b[38;5;28mglobals\u001b[39m\u001b[38;5;241m=\u001b[39m\u001b[38;5;28mglobals\u001b[39m(), number\u001b[38;5;241m=\u001b[39m\u001b[38;5;241m1\u001b[39m))\n",
      "\u001b[0;31mNameError\u001b[0m: name 'macierz_rzadka' is not defined"
     ]
    }
   ],
   "source": [
    "n = 15_000\n",
    "A = macierz_rzadka(n)\n",
    "f = wektor_f(n)\n",
    "print(timeit.timeit(\"scipy.sparse.linalg.inv(A)@f\", globals=globals(), number=1))"
   ]
  },
  {
   "cell_type": "code",
   "execution_count": null,
   "metadata": {},
   "outputs": [],
   "source": []
  }
 ],
 "metadata": {
  "kernelspec": {
   "display_name": "Python 3",
   "language": "python",
   "name": "python3"
  },
  "language_info": {
   "codemirror_mode": {
    "name": "ipython",
    "version": 3
   },
   "file_extension": ".py",
   "mimetype": "text/x-python",
   "name": "python",
   "nbconvert_exporter": "python",
   "pygments_lexer": "ipython3",
   "version": "3.11.2"
  }
 },
 "nbformat": 4,
 "nbformat_minor": 2
}
