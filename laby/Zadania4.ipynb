{
 "cells": [
  {
   "cell_type": "code",
   "execution_count": 2,
   "metadata": {},
   "outputs": [],
   "source": [
    "import numpy as np"
   ]
  },
  {
   "cell_type": "markdown",
   "metadata": {},
   "source": [
    "# Zadanie 4.1\n",
    "Znajdź odwrotność macierzy\n",
    "$$ A = \\begin{bmatrix} \n",
    "1 & 2 & 3 \\\\\n",
    "4 & 5 & 4 \\\\\n",
    "3 & 2 & 1\n",
    "\\end{bmatrix}$$\n",
    "Sprawdź czy $AA^{-1} = I $ oraz czy $A^{-1}A = I$"
   ]
  },
  {
   "cell_type": "code",
   "execution_count": 3,
   "metadata": {},
   "outputs": [
    {
     "name": "stdout",
     "output_type": "stream",
     "text": [
      "AA^{-1} = I True\n",
      "AA^{-1} = I True\n"
     ]
    }
   ],
   "source": [
    "A = np.array([[1, 2, 3], [4, 5, 4], [3, 2, 1]])\n",
    "A_odwrotna = np.linalg.inv(A)\n",
    "print(\"AA^{-1} = I\", (A@A_odwrotna == np.eye(3)).all())\n",
    "print(\"AA^{-1} = I\", (A_odwrotna@A == np.eye(3)).all())"
   ]
  },
  {
   "cell_type": "markdown",
   "metadata": {},
   "source": [
    "# Zadanie 4.2\n",
    "Napisz procedurę, która przyjmuje wektor $x \\in \\mathbb{R}^n$ i go normalizuje czyli zwraca wektor o tym samym kierunku i zwrocie, ale o długości 1."
   ]
  },
  {
   "cell_type": "code",
   "execution_count": 4,
   "metadata": {},
   "outputs": [
    {
     "name": "stdout",
     "output_type": "stream",
     "text": [
      "[0.18257419 0.36514837 0.54772256 0.73029674]\n"
     ]
    }
   ],
   "source": [
    "y = np.array([1, 2, 3, 4])\n",
    "procedura4_2 = lambda x: x/np.linalg.norm(x)\n",
    "print(procedura4_2(y))"
   ]
  },
  {
   "cell_type": "markdown",
   "metadata": {},
   "source": [
    "# Zadanie 4.3\n",
    "Napisz procedurę, która przyjmuje parametr $n$ i zwraca macierz operatora $A : \\mathbb{R}^n \\rightarrow \\mathbb{R}^n$, takiego który przemnaża kolejne elementy wektora przez kolejne liczby naturalne,\n",
    "zaczynając od 1, tzn. $Ax = [x_1, 2x_2, 3x_3, ... nx_n]$."
   ]
  },
  {
   "cell_type": "code",
   "execution_count": 5,
   "metadata": {},
   "outputs": [
    {
     "name": "stdout",
     "output_type": "stream",
     "text": [
      "[[1 0 0 0]\n",
      " [0 2 0 0]\n",
      " [0 0 3 0]\n",
      " [0 0 0 4]]\n"
     ]
    }
   ],
   "source": [
    "x = [1, 1, 1, 1]\n",
    "m = 4\n",
    "procedura4_3 = lambda n: np.diag(np.arange(1, n+1))\n",
    "print(procedura4_3(m))"
   ]
  },
  {
   "cell_type": "markdown",
   "metadata": {},
   "source": [
    "# Zadanie 4.4\n",
    "Napisz procedurę, która przyjmuje dwa wektory $x \\in \\mathbb{R}^n$ i zwraca kąt między\n",
    "nimi, mierzony w stopniach."
   ]
  },
  {
   "cell_type": "code",
   "execution_count": 6,
   "metadata": {},
   "outputs": [
    {
     "name": "stdout",
     "output_type": "stream",
     "text": [
      "90.0\n"
     ]
    }
   ],
   "source": [
    "a = np.array([1, 1])\n",
    "b = np.array([-1, 1])\n",
    "procedura4_4 = lambda x, y: np.arccos((x@y)/(np.linalg.norm(x)*np.linalg.norm(y))) * 180 / np.pi\n",
    "\n",
    "print(procedura4_4(a, b))"
   ]
  },
  {
   "cell_type": "markdown",
   "metadata": {},
   "source": [
    "# Zadanie 4.5\n",
    "Niech będzie dany wektor $x = [x_1, x_2, ..., x_n] \\in \\mathbb{R}^n$.\n",
    "Niech $A$ będzie macierzą postaci\n",
    "$$A = \\begin{bmatrix} \n",
    "x_1^3 & x_1^2 & x_1 & 1 \\\\\n",
    "x_2^3 & x_2^2 & x_2 & 1 \\\\\n",
    "... & ... & ... & ... \\\\\n",
    "x_n^3 & x_n^2 & x_n & 1 \n",
    "\\end{bmatrix}\n",
    "$$\n",
    "\n",
    "Macierz tego rodzaju nazywamy macierzą Vandermonde’a. Niech $y = [a, b, c, d] \\in \\mathbb{R}^4$ będzie\n",
    "danym wektorem. Zauważmy, że działając operatorem $A$ na wektor $y$ otrzymamy wartości wielomianu $ w(x) = ax^3 + bx^2 + cx + d $ dla kolejnych argumentów wektora $x$, tj. $Ay = [ax_i^3 + bx_i^2 + cx_i + d]^n_{i=1}$.\n",
    "Dla współczynników $ y = [a, b, c, d] = [1, 2, 3, 4] $ oraz wektora $x$ odpowiadającemu 100 węzłom równoodległym na przedziale $[−2, 2]$, wygeneruj tego rodzaju macierz. Narysuj na jednym\n",
    "wykresie wartości wielomianu $w $ obliczone na 2 sposoby:\n",
    "\n",
    "- poprzez pomnożenie macierzy $A$ przez wektor $y$,\n",
    "- stosując operacje element-wise\n",
    "\n",
    "Czy wykresy różnią się od siebie"
   ]
  },
  {
   "cell_type": "code",
   "execution_count": 11,
   "metadata": {},
   "outputs": [],
   "source": [
    "x = np.linspace(-2, 2, 100)\n",
    "y = [1, 2, 3, 4]\n",
    "\n",
    "A = np.array([[x_i ** i for i in range(3, -1, -1)] for x_i in x])"
   ]
  },
  {
   "cell_type": "code",
   "execution_count": 8,
   "metadata": {},
   "outputs": [],
   "source": [
    "po_elementach = lambda x, y: y[0]*x**3 + y[1]*x**2 + y[2]*x + y[3]"
   ]
  },
  {
   "cell_type": "code",
   "execution_count": 9,
   "metadata": {},
   "outputs": [
    {
     "data": {
      "image/png": "[encoded data removed]",
      "text/plain": [
       "<Figure size 640x480 with 1 Axes>"
      ]
     },
     "metadata": {},
     "output_type": "display_data"
    }
   ],
   "source": [
    "import matplotlib.pyplot as plt\n",
    "plt.plot(x, A@y, label=\"macierz Vandermonde'a\", lw=3)\n",
    "plt.plot(x, [po_elementach(i, y) for i in x], label=\"element-wise\")\n",
    "plt.legend()\n",
    "plt.show()"
   ]
  },
  {
   "cell_type": "code",
   "execution_count": 10,
   "metadata": {},
   "outputs": [
    {
     "name": "stdout",
     "output_type": "stream",
     "text": [
      "[-2.         -1.7236357  -1.45993555 -1.20850377 -0.96894462 -0.74086235\n",
      " -0.5238612  -0.31754542 -0.12151924  0.06461307  0.24124729  0.40877915\n",
      "  0.56760442  0.71811885  0.86071819  0.9957982   1.12375464  1.24498325\n",
      "  1.35987979  1.46884002  1.57225968  1.67053455  1.76406036  1.85323287\n",
      "  1.93844784  2.02010102  2.09858817  2.17430503  2.24764737  2.31901094\n",
      "  2.3887915   2.45738479  2.52518657  2.59259259  2.65999862  2.7278004\n",
      "  2.79639369  2.86617424  2.93753781  3.01088015  3.08659702  3.16508416\n",
      "  3.24673735  3.33195232  3.42112483  3.51465064  3.6129255   3.71634517\n",
      "  3.8253054   3.94020194  4.06143055  4.18938698  4.32446699  4.46706634\n",
      "  4.61758077  4.77640604  4.9439379   5.12057211  5.30670443  5.5027306\n",
      "  5.70904639  5.92604754  6.15412981  6.39368896  6.64512073  6.90882089\n",
      "  7.18518519  7.47460937  7.77748921  8.09422044  8.42519883  8.77082013\n",
      "  9.13148009  9.50757447  9.89949902 10.3076495  10.73242166 11.17421125\n",
      " 11.63341403 12.11042576 12.60564218 13.11945905 13.65227213 14.20447718\n",
      " 14.77646993 15.36864616 15.98140161 16.61513204 17.2702332  17.94710084\n",
      " 18.64613073 19.36771861 20.11226024 20.88015138 21.67178777 22.48756517\n",
      " 23.32787934 24.19312604 25.083701   26.        ]\n",
      "[-2.         -1.7236357  -1.45993555 -1.20850377 -0.96894462 -0.74086235\n",
      " -0.5238612  -0.31754542 -0.12151924  0.06461307  0.24124729  0.40877915\n",
      "  0.56760442  0.71811885  0.86071819  0.9957982   1.12375464  1.24498325\n",
      "  1.35987979  1.46884002  1.57225968  1.67053455  1.76406036  1.85323287\n",
      "  1.93844784  2.02010102  2.09858817  2.17430503  2.24764737  2.31901094\n",
      "  2.3887915   2.45738479  2.52518657  2.59259259  2.65999862  2.7278004\n",
      "  2.79639369  2.86617424  2.93753781  3.01088015  3.08659702  3.16508416\n",
      "  3.24673735  3.33195232  3.42112483  3.51465064  3.6129255   3.71634517\n",
      "  3.8253054   3.94020194  4.06143055  4.18938698  4.32446699  4.46706634\n",
      "  4.61758077  4.77640604  4.9439379   5.12057211  5.30670443  5.5027306\n",
      "  5.70904639  5.92604754  6.15412981  6.39368896  6.64512073  6.90882089\n",
      "  7.18518519  7.47460937  7.77748921  8.09422044  8.42519883  8.77082013\n",
      "  9.13148009  9.50757447  9.89949902 10.3076495  10.73242166 11.17421125\n",
      " 11.63341403 12.11042576 12.60564218 13.11945905 13.65227213 14.20447718\n",
      " 14.77646993 15.36864616 15.98140161 16.61513204 17.2702332  17.94710084\n",
      " 18.64613073 19.36771861 20.11226024 20.88015138 21.67178777 22.48756517\n",
      " 23.32787934 24.19312604 25.083701   26.        ]\n"
     ]
    }
   ],
   "source": [
    "print(po_elementach(x, y))\n",
    "print(A@y)"
   ]
  }
 ],
 "metadata": {
  "kernelspec": {
   "display_name": "Python 3",
   "language": "python",
   "name": "python3"
  },
  "language_info": {
   "codemirror_mode": {
    "name": "ipython",
    "version": 3
   },
   "file_extension": ".py",
   "mimetype": "text/x-python",
   "name": "python",
   "nbconvert_exporter": "python",
   "pygments_lexer": "ipython3",
   "version": "3.11.2"
  }
 },
 "nbformat": 4,
 "nbformat_minor": 2
}
