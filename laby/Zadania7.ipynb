{
 "cells": [
  {
   "cell_type": "markdown",
   "metadata": {},
   "source": [
    "# Równania nieliniowe"
   ]
  },
  {
   "cell_type": "code",
   "execution_count": 2,
   "metadata": {},
   "outputs": [],
   "source": [
    "import scipy.optimize\n",
    "import numpy as np"
   ]
  },
  {
   "cell_type": "code",
   "execution_count": 3,
   "metadata": {},
   "outputs": [],
   "source": [
    "f = lambda x: x-3\n",
    "df = lambda x: 1\n",
    "r = 3"
   ]
  },
  {
   "cell_type": "markdown",
   "metadata": {},
   "source": [
    "## Bisekcja"
   ]
  },
  {
   "cell_type": "code",
   "execution_count": 4,
   "metadata": {},
   "outputs": [
    {
     "name": "stdout",
     "output_type": "stream",
     "text": [
      "3.000000000000682\n",
      "błąd 6.8e-13\n",
      "      converged: True\n",
      "           flag: 'converged'\n",
      " function_calls: 46\n",
      "     iterations: 44\n",
      "           root: 3.000000000000682\n"
     ]
    }
   ],
   "source": [
    "x, res = scipy.optimize.bisect(f, -10, 10, full_output=True)\n",
    "print(x)\n",
    "print(f\"błąd {x-r:.1e}\")\n",
    "print(res)"
   ]
  },
  {
   "cell_type": "markdown",
   "metadata": {},
   "source": [
    "## Newton ale sieczne"
   ]
  },
  {
   "cell_type": "code",
   "execution_count": 5,
   "metadata": {},
   "outputs": [
    {
     "name": "stdout",
     "output_type": "stream",
     "text": [
      "3.0\n",
      "błąd 0.0e+00\n",
      "      converged: True\n",
      "           flag: 'converged'\n",
      " function_calls: 3\n",
      "     iterations: 2\n",
      "           root: 3.0\n"
     ]
    }
   ],
   "source": [
    "x, res = scipy.optimize.newton(f, 5, full_output=True)\n",
    "print(x)\n",
    "print(f\"błąd {x-r:.1e}\")\n",
    "print(res)"
   ]
  },
  {
   "cell_type": "markdown",
   "metadata": {},
   "source": [
    "## prawdziwy Newton"
   ]
  },
  {
   "cell_type": "code",
   "execution_count": 6,
   "metadata": {},
   "outputs": [
    {
     "name": "stdout",
     "output_type": "stream",
     "text": [
      "3.0\n",
      "błąd 0.0e+00\n",
      "      converged: True\n",
      "           flag: 'converged'\n",
      " function_calls: 3\n",
      "     iterations: 1\n",
      "           root: 3.0\n"
     ]
    }
   ],
   "source": [
    "x, res = scipy.optimize.newton(f, 5, full_output=True, fprime=df)\n",
    "print(x)\n",
    "print(f\"błąd {x-r:.1e}\")\n",
    "print(res)"
   ]
  },
  {
   "cell_type": "markdown",
   "metadata": {},
   "source": [
    "## Funkcja wielowymiarowa"
   ]
  },
  {
   "cell_type": "code",
   "execution_count": 7,
   "metadata": {},
   "outputs": [],
   "source": [
    "def F(v):\n",
    "    x, y = v\n",
    "    return [x-2, y-3]"
   ]
  },
  {
   "cell_type": "code",
   "execution_count": 8,
   "metadata": {},
   "outputs": [
    {
     "data": {
      "text/plain": [
       "array([2., 3.])"
      ]
     },
     "execution_count": 8,
     "metadata": {},
     "output_type": "execute_result"
    }
   ],
   "source": [
    "x = scipy.optimize.fsolve(F, [5, 6])\n",
    "x"
   ]
  },
  {
   "cell_type": "code",
   "execution_count": 9,
   "metadata": {},
   "outputs": [
    {
     "name": "stdout",
     "output_type": "stream",
     "text": [
      "[2. 3.]\n",
      "błąd 0.0e+00\n",
      "{'nfev': 5, 'fjac': array([[-1.00000000e+00, -1.09035003e-12],\n",
      "       [ 1.09035003e-12, -1.00000000e+00]]), 'r': array([-1.00000000e+00, -2.18125518e-12, -1.00000000e+00]), 'qtf': array([6.54365451e-12, 6.54321042e-12]), 'fvec': array([0., 0.])}\n",
      "1\n",
      "The solution converged.\n"
     ]
    }
   ],
   "source": [
    "x, infodict, ier, mesg = scipy.optimize.fsolve(F, [5, 6], full_output=True)\n",
    "print(x)\n",
    "print(f\"błąd {np.linalg.norm([2, 3]-x):.1e}\")\n",
    "print(infodict)\n",
    "print(ier)\n",
    "print(mesg)"
   ]
  },
  {
   "cell_type": "markdown",
   "metadata": {},
   "source": [
    "# Zadanie 1\n",
    "Niech $f (x) := 1/x − 8$. Znajdź miejsce zerowe tej funkcji wykorzystując metodę\n",
    "bisekcji (scipy.optimize.bisect) zaczynając od przedziału $[0.1, 3]$ przy domyślnych parametrach zbieżności.\n",
    "Określ błąd otrzymanego przybliżenia oraz ilość wykonanych ewaluacji funkcji $f$ ."
   ]
  },
  {
   "cell_type": "code",
   "execution_count": 10,
   "metadata": {},
   "outputs": [
    {
     "name": "stdout",
     "output_type": "stream",
     "text": [
      "Miejsce zerowe = 0.12500000000050024\n",
      "Błąd = 5.0e-13\n",
      "      converged: True\n",
      "           flag: 'converged'\n",
      " function_calls: 43\n",
      "     iterations: 41\n",
      "           root: 0.12500000000050024\n"
     ]
    }
   ],
   "source": [
    "f = lambda x: 1/x - 8\n",
    "x_0, res = scipy.optimize.bisect(f, 0.1, 3, full_output=True)\n",
    "print(f\"Miejsce zerowe = {x_0}\")\n",
    "print(f\"Błąd = {abs(0.125-x_0):.1e}\")\n",
    "print(res)"
   ]
  },
  {
   "cell_type": "code",
   "execution_count": 15,
   "metadata": {},
   "outputs": [
    {
     "name": "stdout",
     "output_type": "stream",
     "text": [
      "-3 brak zbieżności\n",
      "\n",
      "punkt początkowy=0.01, wynik=0.12499999999999754, błąd=2.5e-15, ilość ewaluacji funkcji = 13\n",
      "\n",
      "punkt początkowy=0.15, wynik=0.1250000000000003, błąd=3.1e-16, ilość ewaluacji funkcji = 7\n",
      "\n",
      "1 brak zbieżności\n",
      "\n"
     ]
    }
   ],
   "source": [
    "f = lambda x: 1/x - 8\n",
    "for i in [-3, 0.01, 0.15, 1]:\n",
    "    try:\n",
    "        x, res = scipy.optimize.newton(f, i, full_output=True)\n",
    "        print(f\"punkt początkowy={i}, wynik={x}, błąd={abs(0.125-x):.1e}, ilość ewaluacji funkcji = {res.function_calls}\\n\")\n",
    "    except RuntimeError:\n",
    "        print(i, \"brak zbieżności\\n\")"
   ]
  },
  {
   "cell_type": "markdown",
   "metadata": {},
   "source": [
    "# Zadanie 2\n",
    "Niech $f (x) := 1/x − 8$. Znajdź miejsce zerowe tej funkcji wykorzystując funkcję\n",
    "scipy.optimize.newton bez podawania pochodnej (metoda siecznych). Jako punkty początkowe wypróbuj liczby: $-3, 0.01, 0.15, 1$. Dla których punktów otrzymamy zbieżność?\n",
    "Dla tych punktów, dla których metoda jest zbieżna określ błąd otrzymanego przybliżenia\n",
    "oraz ilość wykonanych ewaluacji funkcji $f$ ."
   ]
  },
  {
   "cell_type": "code",
   "execution_count": null,
   "metadata": {},
   "outputs": [
    {
     "name": "stdout",
     "output_type": "stream",
     "text": [
      "-3 brak zbieżności\n",
      "\n",
      "punkt początkowy=0.01, wynik=0.12499999999999754, błąd=2.5e-15, ilość ewaluacji funkcji = 13\n",
      "\n",
      "punkt początkowy=0.15, wynik=0.1250000000000003, błąd=3.1e-16, ilość ewaluacji funkcji = 7\n",
      "\n",
      "1 brak zbieżności\n",
      "\n"
     ]
    }
   ],
   "source": [
    "f = lambda x: 1/x - 8\n",
    "for i in [-3, 0.01, 0.15, 1]:\n",
    "    try:\n",
    "        x, res = scipy.optimize.newton(f, i, full_output=True)\n",
    "        print(f\"punkt początkowy={i}, wynik={x}, błąd={abs(0.125-x):.1e}, ilość ewaluacji funkcji = {res.function_calls}\\n\")\n",
    "    except:\n",
    "        print(i, \"brak zbieżności\\n\")"
   ]
  },
  {
   "cell_type": "markdown",
   "metadata": {},
   "source": [
    "# Zadanie 7.3\n",
    "Niech $f (x) := 1/x − 8$. Znajdź miejsce zerowe tej funkcji wykorzystując funkcję scipy.optimize.newton podając explicite pochodną $f$ (metoda Newtona). Jako punkty początkowe wypróbuj liczby: $-3, 0.01, 0.15, 1$. Dla których punktów otrzymamy zbieżność?\n",
    "Dla tych punktów, dla których metoda jest zbieżna określ błąd otrzymanego przybliżenia\n",
    "oraz ilość wykonanych ewaluacji funkcji $f$."
   ]
  },
  {
   "cell_type": "code",
   "execution_count": 17,
   "metadata": {},
   "outputs": [
    {
     "name": "stdout",
     "output_type": "stream",
     "text": [
      "-3 brak zbieżności\n",
      "\n",
      "punkt początkowy=0.01, wynik=0.125, błąd=0.0e+00, ilość ewaluacji funkcji = 18\n",
      "\n",
      "punkt początkowy=0.15, wynik=0.125, błąd=0.0e+00, ilość ewaluacji funkcji = 10\n",
      "\n",
      "1 brak zbieżności\n",
      "\n"
     ]
    }
   ],
   "source": [
    "f = lambda x: 1/x - 8\n",
    "df = lambda x: -1/(x**2)\n",
    "for i in [-3, 0.01, 0.15, 1]:\n",
    "    try:\n",
    "        x, res = scipy.optimize.newton(f, i, full_output=True, fprime=df)\n",
    "        print(f\"punkt początkowy={i}, wynik={x}, błąd={abs(0.125-x):.1e}, ilość ewaluacji funkcji = {res.function_calls}\\n\")\n",
    "    except Exception:\n",
    "        print(i, \"brak zbieżności\\n\")"
   ]
  },
  {
   "cell_type": "markdown",
   "metadata": {},
   "source": [
    "# Zadanie 7.4\n",
    "Niech $F (x, y) := [xy^2 + x − 3y^2 − 3, x^2y^3 + 2y − 5x^2y^2 − 10]$. Wykorzystując\n",
    "funkcję scipy.optimize.fsolve znajdź miejsce zerowe tej funkcji znajdujące się w kwadracie\n",
    "$[0, 5]^2$ i wybierając taki punkt początkowy, dla którego metoda osiągnie zbieżność.\n",
    "Określ ilość wykonanych ewaluacji funkcji $F$."
   ]
  },
  {
   "cell_type": "code",
   "execution_count": 18,
   "metadata": {},
   "outputs": [],
   "source": [
    "F = lambda xy : (xy[0]*xy[1]**2 + xy[0] - 3*xy[1]**2 - 3, xy[0]**2*xy[1]**3 + 2*xy[1] - 5*xy[0]**2*xy[1]**2 - 10)\n",
    "x, infodict, ier, mesg = scipy.optimize.fsolve(F, [0, 0], full_output=True)"
   ]
  },
  {
   "cell_type": "code",
   "execution_count": 21,
   "metadata": {},
   "outputs": [
    {
     "name": "stdout",
     "output_type": "stream",
     "text": [
      "[3. 5.]\n",
      "8\n"
     ]
    }
   ],
   "source": [
    "print(x)\n",
    "print(infodict['nfev'])"
   ]
  },
  {
   "cell_type": "code",
   "execution_count": null,
   "metadata": {},
   "outputs": [],
   "source": []
  }
 ],
 "metadata": {
  "kernelspec": {
   "display_name": "Python 3",
   "language": "python",
   "name": "python3"
  },
  "language_info": {
   "codemirror_mode": {
    "name": "ipython",
    "version": 3
   },
   "file_extension": ".py",
   "mimetype": "text/x-python",
   "name": "python",
   "nbconvert_exporter": "python",
   "pygments_lexer": "ipython3",
   "version": "3.11.2"
  }
 },
 "nbformat": 4,
 "nbformat_minor": 2
}
