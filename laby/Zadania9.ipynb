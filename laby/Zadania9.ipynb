{
 "cells": [
  {
   "cell_type": "code",
   "execution_count": 2,
   "metadata": {},
   "outputs": [],
   "source": [
    "import numpy as np"
   ]
  },
  {
   "cell_type": "markdown",
   "metadata": {},
   "source": [
    "# Zadanie 9.1. \n",
    "Stosując funkcję `numpy.linalg.eig` z Octave, określ wektory własne i wartości\n",
    "własne następujących macierzy:\n"
   ]
  },
  {
   "cell_type": "code",
   "execution_count": 3,
   "metadata": {},
   "outputs": [],
   "source": [
    "M1 = np.array([\n",
    "    [4.5, 3, 3.5],\n",
    "    [-1,1,-1],\n",
    "    [-0.5,-1,0.5]\n",
    "])\n",
    "M2 = np.array([\n",
    "    [5998.5, 5997, 5997.5],\n",
    "    [-2998,-2996,-2998],\n",
    "    [0.5,1,0.5]\n",
    "])\n",
    "M3 = np.array([\n",
    "    [6.5, 7, 9.5],\n",
    "    [-1,1,-1],\n",
    "    [-2.5,-5,-5.5]\n",
    "])\n",
    "M4 = np.array([\n",
    "    [6.5, 3, 1.5],\n",
    "    [-3,-1,-3],\n",
    "    [1.5,3,6.5]\n",
    "])\n",
    "M5 = np.array([\n",
    "    [2,-2,0],\n",
    "    [2,2,0],\n",
    "    [0,1,1]\n",
    "])\n",
    "M6 = np.array([\n",
    "    [1,-1],\n",
    "    [-1,1]\n",
    "])\n",
    "M7 = np.array([\n",
    "    [1,-1],\n",
    "    [1,-1]\n",
    "])"
   ]
  },
  {
   "cell_type": "code",
   "execution_count": 4,
   "metadata": {},
   "outputs": [
    {
     "data": {
      "text/plain": [
       "(array([3.00000000e+03, 2.82287566e+00, 1.77124344e-01]),\n",
       " array([[-8.94427191e-01, -7.57219144e-01, -7.87135075e-01],\n",
       "        [ 4.47213595e-01,  6.43155402e-01,  2.05841622e-01],\n",
       "        [-6.12077129e-20,  1.13887211e-01,  5.81418610e-01]]))"
      ]
     },
     "execution_count": 4,
     "metadata": {},
     "output_type": "execute_result"
    }
   ],
   "source": [
    "def print_wektory_wlasnosci_wlasne(M):\n",
    "    eig = np.linalg.eig(M)\n",
    "    print(f\"Macierz: \\n {M} \\n Własnosci wlasne: {eig[0]} \\n Wektory wlasne: {eig[1]}\\n\\n\")\n",
    "np.linalg.eig(M2)"
   ]
  },
  {
   "cell_type": "code",
   "execution_count": 5,
   "metadata": {},
   "outputs": [
    {
     "name": "stdout",
     "output_type": "stream",
     "text": [
      "Macierz: \n",
      " [[ 4.5  3.   3.5]\n",
      " [-1.   1.  -1. ]\n",
      " [-0.5 -1.   0.5]] \n",
      " Własnosci wlasne: [3. 1. 2.] \n",
      " Wektory wlasne: [[ 8.94427191e-01  7.07106781e-01  4.08248290e-01]\n",
      " [-4.47213595e-01  3.53883589e-16 -8.16496581e-01]\n",
      " [ 7.02166694e-17 -7.07106781e-01  4.08248290e-01]]\n",
      "\n",
      "\n",
      "Macierz: \n",
      " [[ 5.9985e+03  5.9970e+03  5.9975e+03]\n",
      " [-2.9980e+03 -2.9960e+03 -2.9980e+03]\n",
      " [ 5.0000e-01  1.0000e+00  5.0000e-01]] \n",
      " Własnosci wlasne: [3.00000000e+03 2.82287566e+00 1.77124344e-01] \n",
      " Wektory wlasne: [[-8.94427191e-01 -7.57219144e-01 -7.87135075e-01]\n",
      " [ 4.47213595e-01  6.43155402e-01  2.05841622e-01]\n",
      " [-6.12077129e-20  1.13887211e-01  5.81418610e-01]]\n",
      "\n",
      "\n",
      "Macierz: \n",
      " [[ 6.5  7.   9.5]\n",
      " [-1.   1.  -1. ]\n",
      " [-2.5 -5.  -5.5]] \n",
      " Własnosci wlasne: [-3.  3.  2.] \n",
      " Wektory wlasne: [[ 7.07106781e-01  8.94427191e-01 -4.08248290e-01]\n",
      " [ 8.40256684e-17 -4.47213595e-01  8.16496581e-01]\n",
      " [-7.07106781e-01 -1.21618839e-16 -4.08248290e-01]]\n",
      "\n",
      "\n",
      "Macierz: \n",
      " [[ 6.5  3.   1.5]\n",
      " [-3.  -1.  -3. ]\n",
      " [ 1.5  3.   6.5]] \n",
      " Własnosci wlasne: [5. 2. 5.] \n",
      " Wektory wlasne: [[ 0.80178373  0.40824829 -0.812642  ]\n",
      " [-0.53452248 -0.81649658  0.12132385]\n",
      " [ 0.26726124  0.40824829  0.5699943 ]]\n",
      "\n",
      "\n",
      "Macierz: \n",
      " [[ 2 -2  0]\n",
      " [ 2  2  0]\n",
      " [ 0  1  1]] \n",
      " Własnosci wlasne: [1.+0.j 2.+2.j 2.-2.j] \n",
      " Wektory wlasne: [[ 0.        +0.j          0.67419986+0.j          0.67419986-0.j        ]\n",
      " [ 0.        +0.j          0.        -0.67419986j  0.        +0.67419986j]\n",
      " [ 1.        +0.j         -0.26967994-0.13483997j -0.26967994+0.13483997j]]\n",
      "\n",
      "\n",
      "Macierz: \n",
      " [[ 1 -1]\n",
      " [-1  1]] \n",
      " Własnosci wlasne: [2. 0.] \n",
      " Wektory wlasne: [[ 0.70710678  0.70710678]\n",
      " [-0.70710678  0.70710678]]\n",
      "\n",
      "\n",
      "Macierz: \n",
      " [[ 1 -1]\n",
      " [ 1 -1]] \n",
      " Własnosci wlasne: [3.25176795e-17+1.57009246e-16j 3.25176795e-17-1.57009246e-16j] \n",
      " Wektory wlasne: [[0.70710678+1.11022302e-16j 0.70710678-1.11022302e-16j]\n",
      " [0.70710678+0.00000000e+00j 0.70710678-0.00000000e+00j]]\n",
      "\n",
      "\n"
     ]
    }
   ],
   "source": [
    "print_wektory_wlasnosci_wlasne(M1)\n",
    "print_wektory_wlasnosci_wlasne(M2)\n",
    "print_wektory_wlasnosci_wlasne(M3)\n",
    "print_wektory_wlasnosci_wlasne(M4)\n",
    "print_wektory_wlasnosci_wlasne(M5)\n",
    "print_wektory_wlasnosci_wlasne(M6)\n",
    "print_wektory_wlasnosci_wlasne(M7)"
   ]
  },
  {
   "cell_type": "markdown",
   "metadata": {},
   "source": [
    "# Zadanie 9.2. \n",
    "Zaprogramuj procedurę implementującą metodę potęgową\n",
    "$$ y_{k+1} = Ax_k$$\n",
    "$$x_{k+1} = \\frac{y_{k+1}}{||y_{k+1}||_2}$$\n",
    "Należy przyjąć macierz, niezerowy wektor początkowy $x_0$ (przekazany jako parametr procedury)\n",
    "oraz ilość iteracji.\n",
    "Funkcja powinna zwracać przybliżenie wartości własnej oraz wektora własnego. Po znalezieniu przybliżenia wektora własnego $x_k$ należy przybliżyć wartość własną ilorazem Rayleigha\n",
    "$$ \\lambda_1 \\approx \\frac{x_k^TAx_k}{x_k^Tx_k}$$\n",
    "Za kryterium stopu przyjmij ilości iteracji. Przetestuj ją dla macierzy mających dominującą\n",
    "wartość własną. Porównaj wyniki z rezultatami funkcji `numpy.linalg.eig`."
   ]
  },
  {
   "cell_type": "code",
   "execution_count": 6,
   "metadata": {},
   "outputs": [],
   "source": [
    "def print_wyniki_funkcji(M, f, x_0):\n",
    "    try:\n",
    "        w = f(M, x_0, 100)\n",
    "        print(f\"Macierz: \\n {M} \\n Własnosci wlasne: {w[0]} \\n Wektory wlasne: {w[1]}\\n\\n\")\n",
    "    except Exception:\n",
    "        print(f\"Macierz \\n{M} \\n BŁĄÐ\")"
   ]
  },
  {
   "cell_type": "code",
   "execution_count": 7,
   "metadata": {},
   "outputs": [],
   "source": [
    "def metoda_potegowa(A: np.array, x_0: np.array, iterations: int):\n",
    "    x = [x_0]\n",
    "    y = []\n",
    "    lambdy = []\n",
    "    for k in range(iterations):\n",
    "        y.append(A@x[-1])\n",
    "        x.append(y[-1]/np.linalg.norm(y[-1]))\n",
    "        lambdy.append((np.transpose(x[-1])@A@x[-1])/(np.transpose(x[-1])@x[-1]))\n",
    "    return lambdy[-1], x[-1]"
   ]
  },
  {
   "cell_type": "code",
   "execution_count": 8,
   "metadata": {},
   "outputs": [
    {
     "name": "stdout",
     "output_type": "stream",
     "text": [
      "Macierz: \n",
      " [[ 4.5  3.   3.5]\n",
      " [-1.   1.  -1. ]\n",
      " [-0.5 -1.   0.5]] \n",
      " Własnosci wlasne: 2.9999999999999996 \n",
      " Wektory wlasne: [ 8.94427191e-01 -4.47213595e-01 -4.44089210e-17]\n",
      "\n",
      "\n",
      "Macierz: \n",
      " [[ 5.9985e+03  5.9970e+03  5.9975e+03]\n",
      " [-2.9980e+03 -2.9960e+03 -2.9980e+03]\n",
      " [ 5.0000e-01  1.0000e+00  5.0000e-01]] \n",
      " Własnosci wlasne: 3000.0 \n",
      " Wektory wlasne: [ 8.94427191e-01 -4.47213595e-01  1.84975487e-20]\n",
      "\n",
      "\n",
      "Macierz: \n",
      " [[ 6.5  7.   9.5]\n",
      " [-1.   1.  -1. ]\n",
      " [-2.5 -5.  -5.5]] \n",
      " Własnosci wlasne: 3.0 \n",
      " Wektory wlasne: [ 0.57735027 -0.57735027  0.57735027]\n",
      "\n",
      "\n",
      "Macierz: \n",
      " [[ 6.5  3.   1.5]\n",
      " [-3.  -1.  -3. ]\n",
      " [ 1.5  3.   6.5]] \n",
      " Własnosci wlasne: 4.999999999999999 \n",
      " Wektory wlasne: [ 0.57735027 -0.57735027  0.57735027]\n",
      "\n",
      "\n",
      "Macierz: \n",
      " [[ 2 -2  0]\n",
      " [ 2  2  0]\n",
      " [ 0  1  1]] \n",
      " Własnosci wlasne: 1.8823529411764706 \n",
      " Wektory wlasne: [-0.70014004 -0.70014004  0.14002801]\n",
      "\n",
      "\n",
      "Macierz: \n",
      " [[ 1 -1]\n",
      " [-1  1]] \n",
      " Własnosci wlasne: 2.0 \n",
      " Wektory wlasne: [-0.70710678  0.70710678]\n",
      "\n",
      "\n",
      "Macierz: \n",
      " [[ 1 -1]\n",
      " [ 1 -1]] \n",
      " Własnosci wlasne: nan \n",
      " Wektory wlasne: [nan nan]\n",
      "\n",
      "\n"
     ]
    },
    {
     "name": "stderr",
     "output_type": "stream",
     "text": [
      "/tmp/ipykernel_19867/3898860104.py:7: RuntimeWarning: invalid value encountered in divide\n",
      "  x.append(y[-1]/np.linalg.norm(y[-1]))\n"
     ]
    }
   ],
   "source": [
    "print_wyniki_funkcji(M1, metoda_potegowa, [1, 1, 1])\n",
    "print_wyniki_funkcji(M2, metoda_potegowa, [1, 1, 1])\n",
    "print_wyniki_funkcji(M3, metoda_potegowa, [1, 1, 1])\n",
    "print_wyniki_funkcji(M4, metoda_potegowa, [1, 1, 1])\n",
    "print_wyniki_funkcji(M5, metoda_potegowa, [1, 1, 1])\n",
    "print_wyniki_funkcji(M6, metoda_potegowa, [1, 2])\n",
    "print_wyniki_funkcji(M7, metoda_potegowa, [1, 1])"
   ]
  },
  {
   "cell_type": "code",
   "execution_count": 9,
   "metadata": {},
   "outputs": [
    {
     "data": {
      "text/plain": [
       "(2.0, array([-0.70710678,  0.70710678]))"
      ]
     },
     "execution_count": 9,
     "metadata": {},
     "output_type": "execute_result"
    }
   ],
   "source": [
    "metoda_potegowa(M6, [1, 2], 100)"
   ]
  },
  {
   "cell_type": "code",
   "execution_count": 10,
   "metadata": {},
   "outputs": [
    {
     "name": "stdout",
     "output_type": "stream",
     "text": [
      "[[ 4.5  3.   3.5]\n",
      " [-1.   1.  -1. ]\n",
      " [-0.5 -1.   0.5]]\n",
      "(2.9999999999999996, array([ 8.94427191e-01, -4.47213595e-01, -4.44089210e-17]))\n"
     ]
    }
   ],
   "source": [
    "print(M1)\n",
    "print(metoda_potegowa(M1, np.array([1, 1, 1]), 100))"
   ]
  },
  {
   "cell_type": "markdown",
   "metadata": {},
   "source": [
    "# Zadanie 9.3\n",
    "Przypuśćmy, że została zaimplementowana uproszczona metoda potęgowa, w której nie ma normowania, tzn.\n",
    "$$ x_{k+1} = Ax_k$$\n",
    "Jaka jest różnica? W jakim przypadku zadziała ona gorzej niż pełna metoda?"
   ]
  },
  {
   "cell_type": "code",
   "execution_count": 11,
   "metadata": {},
   "outputs": [],
   "source": [
    "def uproszczona_metoda_potegowa(A: np.array, x_0: np.array, iterations: int):\n",
    "    x = [x_0]\n",
    "    lambdy = []\n",
    "    for _ in range(iterations):\n",
    "        x.append(A@x[-1])\n",
    "        lambdy.append((np.transpose(x[-1])@A@x[-1])/(np.transpose(x[-1])@x[-1]))\n",
    "    return lambdy[-1], x[-1]"
   ]
  },
  {
   "cell_type": "code",
   "execution_count": 12,
   "metadata": {},
   "outputs": [],
   "source": [
    "def print_wyniki_funkcji(M, f, x_0):\n",
    "    try:\n",
    "        w = f(M, x_0, 100)\n",
    "        print(f\"Macierz: \\n {M} \\n Własnosci wlasne: {w[0]} \\n Wektory wlasne: {w[1]}\\n\\n\")\n",
    "    except Exception:\n",
    "        print(f\"Macierz \\n{M} \\n BŁĄÐ\")"
   ]
  },
  {
   "cell_type": "code",
   "execution_count": 16,
   "metadata": {},
   "outputs": [
    {
     "name": "stdout",
     "output_type": "stream",
     "text": [
      "Macierz: \n",
      " [[ 4.5  3.   3.5]\n",
      " [-1.   1.  -1. ]\n",
      " [-0.5 -1.   0.5]] \n",
      " Własnosci wlasne: 2.9999999999999996 \n",
      " Wektory wlasne: [ 3.09226512e+48 -1.54613256e+48  1.85485856e+32]\n",
      "\n",
      "\n",
      "Macierz: \n",
      " [[ 5.9985e+03  5.9970e+03  5.9975e+03]\n",
      " [-2.9980e+03 -2.9960e+03 -2.9980e+03]\n",
      " [ 5.0000e-01  1.0000e+00  5.0000e-01]] \n",
      " Własnosci wlasne: nan \n",
      " Wektory wlasne: [nan nan nan]\n",
      "\n",
      "\n",
      "Macierz: \n",
      " [[ 6.5  7.   9.5]\n",
      " [-1.   1.  -1. ]\n",
      " [-2.5 -5.  -5.5]] \n",
      " Własnosci wlasne: 3.0000000000000173 \n",
      " Wektory wlasne: [ 1.54613256e+48 -1.54613256e+48  1.54613256e+48]\n",
      "\n",
      "\n",
      "Macierz: \n",
      " [[ 6.5  3.   1.5]\n",
      " [-3.  -1.  -3. ]\n",
      " [ 1.5  3.   6.5]] \n",
      " Własnosci wlasne: 5.0 \n",
      " Wektory wlasne: [ 2.36658272e+70 -2.36658272e+70  2.36658272e+70]\n",
      "\n",
      "\n",
      "Macierz: \n",
      " [[ 2 -2  0]\n",
      " [ 2  2  0]\n",
      " [ 0  1  1]] \n",
      " Własnosci wlasne: 1.0 \n",
      " Wektory wlasne: [                   0                    0 -3689348814741910322]\n",
      "\n",
      "\n",
      "Macierz: \n",
      " [[ 1 -1]\n",
      " [-1  1]] \n",
      " Własnosci wlasne: nan \n",
      " Wektory wlasne: [0 0]\n",
      "\n",
      "\n",
      "Macierz: \n",
      " [[ 1 -1]\n",
      " [ 1 -1]] \n",
      " Własnosci wlasne: nan \n",
      " Wektory wlasne: [0 0]\n",
      "\n",
      "\n"
     ]
    },
    {
     "name": "stderr",
     "output_type": "stream",
     "text": [
      "/tmp/ipykernel_19867/3086365077.py:6: RuntimeWarning: overflow encountered in matmul\n",
      "  lambdy.append((np.transpose(x[-1])@A@x[-1])/(np.transpose(x[-1])@x[-1]))\n",
      "/tmp/ipykernel_19867/3086365077.py:6: RuntimeWarning: invalid value encountered in matmul\n",
      "  lambdy.append((np.transpose(x[-1])@A@x[-1])/(np.transpose(x[-1])@x[-1]))\n",
      "/tmp/ipykernel_19867/3086365077.py:5: RuntimeWarning: overflow encountered in matmul\n",
      "  x.append(A@x[-1])\n",
      "/tmp/ipykernel_19867/3086365077.py:5: RuntimeWarning: invalid value encountered in matmul\n",
      "  x.append(A@x[-1])\n",
      "/tmp/ipykernel_19867/3086365077.py:6: RuntimeWarning: invalid value encountered in scalar divide\n",
      "  lambdy.append((np.transpose(x[-1])@A@x[-1])/(np.transpose(x[-1])@x[-1]))\n"
     ]
    }
   ],
   "source": [
    "print_wyniki_funkcji(M1, uproszczona_metoda_potegowa, [1, 1, 1])\n",
    "print_wyniki_funkcji(M2, uproszczona_metoda_potegowa, [1, 1, 1])\n",
    "print_wyniki_funkcji(M3, uproszczona_metoda_potegowa, [1, 1, 1])\n",
    "print_wyniki_funkcji(M4, uproszczona_metoda_potegowa, [1, 1, 1])\n",
    "print_wyniki_funkcji(M5, uproszczona_metoda_potegowa, [1, 1, 1])\n",
    "print_wyniki_funkcji(M6, uproszczona_metoda_potegowa, [1, 2])\n",
    "print_wyniki_funkcji(M7, uproszczona_metoda_potegowa, [1, 1])"
   ]
  },
  {
   "cell_type": "markdown",
   "metadata": {},
   "source": [
    "# Zadanie 9.4\n",
    "Wartości własne możemy próbować przybliżać prościej niż ilorazem Rayleigha.\n",
    "Spróbuj użyć następujących przybliżeń:\n",
    "- $\\lambda_1 = \\frac{(Ax_k)_3}{(x_k)_3}$\n",
    "- $\\lambda_1 = \\frac{\\sum^n_{i=1}(Ax_k)_i}{\\sum^n_{i=1}(x_k)_i}\\\\$\n",
    "Zmodyfikuj swoją procedurę tak, aby zwracała przybliżenia obliczane także tymi wzorami. Określ, czy te przybliżenia dają wyniki gorsze niż iloraz Rayleigha i jakie są ich słabości."
   ]
  },
  {
   "cell_type": "code",
   "execution_count": 17,
   "metadata": {},
   "outputs": [
    {
     "data": {
      "text/plain": [
       "(2.999999999570182, 3.000000000000001)"
      ]
     },
     "execution_count": 17,
     "metadata": {},
     "output_type": "execute_result"
    }
   ],
   "source": [
    "def zad94(A: np.array, x_0: np.array, iter: int):\n",
    "    x = [x_0]\n",
    "    y = []\n",
    "    for _ in range(iter):\n",
    "        y.append(A@x[-1])\n",
    "        x.append(y[-1]/np.linalg.norm(y[-1]))\n",
    "    return (A@x[-1])[2]/x[-1][2], sum(A@x[-1])/sum(x[-1])\n",
    "zad94(M1, [1, 1, 1], 100)"
   ]
  },
  {
   "cell_type": "code",
   "execution_count": 26,
   "metadata": {},
   "outputs": [
    {
     "name": "stdout",
     "output_type": "stream",
     "text": [
      "Macierz: \n",
      "[[ 4.5  3.   3.5]\n",
      " [-1.   1.  -1. ]\n",
      " [-0.5 -1.   0.5]] \n",
      " Wyniki z zad 9.4 (2.999999999570182, 3.000000000000001) \n",
      " Wynik z oryginalnej metody potegowej: 2.9999999999999996\n",
      "\n",
      "Macierz: \n",
      "[[ 5.9985e+03  5.9970e+03  5.9975e+03]\n",
      " [-2.9980e+03 -2.9960e+03 -2.9980e+03]\n",
      " [ 5.0000e-01  1.0000e+00  5.0000e-01]] \n",
      " Wyniki z zad 9.4 (-3000.5004168195073, 2999.999999999999) \n",
      " Wynik z oryginalnej metody potegowej: 3000.0\n",
      "\n",
      "Macierz: \n",
      "[[ 6.5  7.   9.5]\n",
      " [-1.   1.  -1. ]\n",
      " [-2.5 -5.  -5.5]] \n",
      " Wyniki z zad 9.4 (-3.0000000000000013, 3.0) \n",
      " Wynik z oryginalnej metody potegowej: 3.0\n",
      "\n",
      "Macierz: \n",
      "[[ 6.5  3.   1.5]\n",
      " [-3.  -1.  -3. ]\n",
      " [ 1.5  3.   6.5]] \n",
      " Wyniki z zad 9.4 (5.0, 5.0) \n",
      " Wynik z oryginalnej metody potegowej: 4.999999999999999\n",
      "\n",
      "Macierz: \n",
      "[[ 2 -2  0]\n",
      " [ 2  2  0]\n",
      " [ 0  1  1]] \n",
      " Wyniki z zad 9.4 (-4.0, 2.6666666666666665) \n",
      " Wynik z oryginalnej metody potegowej: 1.8823529411764706\n",
      "\n"
     ]
    }
   ],
   "source": [
    "wypisz_i_porownaj = lambda M, x_0 : print(f\"Macierz: \\n{M} \\n Wyniki z zad 9.4 {zad94(M, x_0, 100)} \\n Wynik z oryginalnej metody potegowej: {metoda_potegowa(M, x_0, 100)[0]}\\n\")\n",
    "wypisz_i_porownaj(M1, [1, 1, 1])\n",
    "wypisz_i_porownaj(M2, [1, 1, 1])\n",
    "wypisz_i_porownaj(M3, [1, 1, 1])\n",
    "wypisz_i_porownaj(M4, [1, 1, 1])\n",
    "wypisz_i_porownaj(M5, [1, 1, 1])\n",
    "# wypisz_i_porownaj(M6, [1, 2])\n",
    "# wypisz_i_porownaj(M7, [1, 1, 1])"
   ]
  },
  {
   "cell_type": "markdown",
   "metadata": {},
   "source": [
    "# Zadanie 9.5\n",
    "Sprawdź, jak metoda potęgowa działa w następujących przypadkach: $\\\\$\n",
    "a) $\\lambda_1 = -\\lambda_2 > |\\lambda_3| \\geq ... \\geq |\\lambda_n|\\\\$\n",
    "b) $\\lambda_1 = \\lambda_2 > |\\lambda_3| \\geq ... \\geq |\\lambda_n|\\\\$\n",
    "c) Wartość $\\lambda_1$ jest zespolona $\\\\$\n",
    "d) Wektor $x_0$ jest wektorem własnym dla innej wartości własnej niż $\\lambda_1$, ale jest spełnione $\\lambda_1 > \\lambda_2 \\geq |\\lambda_3| \\geq ... \\geq |\\lambda_n|\\\\$"
   ]
  },
  {
   "cell_type": "code",
   "execution_count": 28,
   "metadata": {},
   "outputs": [],
   "source": [
    "def metoda_potegowa_wiekszy_output(A: np.array, x_0: np.array, iterations: int):\n",
    "    x = [x_0]\n",
    "    y = []\n",
    "    lambdy = []\n",
    "    for k in range(iterations):\n",
    "        y.append(A@x[-1])\n",
    "        x.append(y[-1]/np.linalg.norm(y[-1]))\n",
    "        lambdy.append((np.transpose(x[-1])@A@x[-1])/(np.transpose(x[-1])@x[-1]))\n",
    "    return lambdy[-len(M):], x[-len(M)]"
   ]
  },
  {
   "cell_type": "markdown",
   "metadata": {},
   "source": [
    "### a) \n",
    "$\\lambda_1 = -\\lambda_2 > |\\lambda_3| \\geq ... \\geq |\\lambda_n|\\\\$"
   ]
  },
  {
   "cell_type": "code",
   "execution_count": 33,
   "metadata": {},
   "outputs": [
    {
     "name": "stdout",
     "output_type": "stream",
     "text": [
      "[[ 6.5  7.   9.5]\n",
      " [-1.   1.  -1. ]\n",
      " [-2.5 -5.  -5.5]]\n",
      "(array([-3.,  3.,  2.]), array([[ 7.07106781e-01,  8.94427191e-01, -4.08248290e-01],\n",
      "       [ 8.40256684e-17, -4.47213595e-01,  8.16496581e-01],\n",
      "       [-7.07106781e-01, -1.21618839e-16, -4.08248290e-01]]))\n",
      "([3.000000000000001, 0.8181818181818177, 3.0], array([ 0.57735027, -0.57735027,  0.57735027]))\n"
     ]
    }
   ],
   "source": [
    "M = M3\n",
    "print(M)\n",
    "print(np.linalg.eig(M))\n",
    "print(metoda_potegowa_wiekszy_output(M, [1, 1, 1], 100))"
   ]
  },
  {
   "cell_type": "markdown",
   "metadata": {},
   "source": [
    "### b) \n",
    "$\\lambda_1 = \\lambda_2 > |\\lambda_3| \\geq ... \\geq |\\lambda_n|\\\\$"
   ]
  },
  {
   "cell_type": "code",
   "execution_count": 34,
   "metadata": {},
   "outputs": [
    {
     "name": "stdout",
     "output_type": "stream",
     "text": [
      "[[ 6.5  3.   1.5]\n",
      " [-3.  -1.  -3. ]\n",
      " [ 1.5  3.   6.5]]\n",
      "(array([5., 2., 5.]), array([[ 0.80178373,  0.40824829, -0.812642  ],\n",
      "       [-0.53452248, -0.81649658,  0.12132385],\n",
      "       [ 0.26726124,  0.40824829,  0.5699943 ]]))\n",
      "([4.999999999999999, 5.0, 4.999999999999999], array([ 0.57735027, -0.57735027,  0.57735027]))\n"
     ]
    }
   ],
   "source": [
    "M = M4\n",
    "print(M)\n",
    "print(np.linalg.eig(M))\n",
    "print(metoda_potegowa_wiekszy_output(M, [1, 1, 1], 100))"
   ]
  },
  {
   "cell_type": "code",
   "execution_count": null,
   "metadata": {},
   "outputs": [],
   "source": []
  }
 ],
 "metadata": {
  "kernelspec": {
   "display_name": "Python 3",
   "language": "python",
   "name": "python3"
  },
  "language_info": {
   "codemirror_mode": {
    "name": "ipython",
    "version": 3
   },
   "file_extension": ".py",
   "mimetype": "text/x-python",
   "name": "python",
   "nbconvert_exporter": "python",
   "pygments_lexer": "ipython3",
   "version": "3.11.2"
  }
 },
 "nbformat": 4,
 "nbformat_minor": 2
}
