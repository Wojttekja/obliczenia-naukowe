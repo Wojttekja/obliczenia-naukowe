{
 "cells": [
  {
   "cell_type": "markdown",
   "metadata": {},
   "source": [
    "# Wykład 6"
   ]
  },
  {
   "cell_type": "markdown",
   "metadata": {},
   "source": [
    "## Równania nieliniowe - metoda newtona"
   ]
  },
  {
   "cell_type": "markdown",
   "metadata": {},
   "source": [
    "Idea: przybliżamy $f$ funkcją liniową $g$ i szukamy miejsca zerowego $g$"
   ]
  },
  {
   "cell_type": "markdown",
   "metadata": {},
   "source": [
    "Szukamy kolejnego punktu \n",
    "$\\\\x_i$ - przybliżenine w $i$ kroku, mamy:  \n",
    "$\\\\f(x_i)$ - obliczamy\n",
    "$\\\\g_i = Ax+B = a_i(x-x_i)+b_i = f'(x_i) \\cdot (x-x_i) + f(x_i)$"
   ]
  },
  {
   "cell_type": "markdown",
   "metadata": {},
   "source": [
    "#### Przyrównujemy\n",
    "$ x_{i+1} : g_i(x_{i+1}) f'(x_i) \\cdot (x-x_i) + f(x_i)$"
   ]
  },
  {
   "cell_type": "markdown",
   "metadata": {},
   "source": [
    "### Błąd metody\n",
    "Załóżmy, że $f(x^*) = 0$, $f'(x) \\neq 0$, $f_o C^2 (\\mathbb{R})\\\\$\n",
    "$e_i := x_i - x^*$ : Błąd w 1. kroku $x^* = x_i - e_i\\\\$\n",
    "$\\rightarrow e_{i+1} = e_i - \\frac{f(x_i)}{f'(x_i)} = \\frac{e_if'(x_i)-f(x_i)}{f'(x_i)}$"
   ]
  },
  {
   "cell_type": "markdown",
   "metadata": {},
   "source": [
    "$0 = f(x^*) = f(x_i - e_i) = f(x_i) - f'(x_i)e_i + \\frac{f''(\\xi_i)}{2}e^2_i\\\\$\n",
    "Gdzie $\\xi_i \\in [x_i, x^*] \\bigcup [x^*, x_i]$"
   ]
  },
  {
   "cell_type": "markdown",
   "metadata": {},
   "source": [
    "$f'(x_i)e_i - f(x_i) = \\frac{f''(\\xi_i)}{2}e_i^2\\\\$\n",
    "$(*) = \\frac{f''(\\xi_i)}{2f'(x_i)}e_i^2\\\\$\n",
    "$e_{i+1} = \\frac{1}{2} \\frac{f''(\\xi_i)}{f'(x_i)}e_i^2 \\approx \\frac{1}{2} \\frac{f''(x^*)}{f'(x^*)}e_i^2 = C \\cdot e_i^2$"
   ]
  },
  {
   "cell_type": "markdown",
   "metadata": {},
   "source": [
    "#### Zbieżność kwadratowa\n",
    "### Zalety:\n",
    "- bardzo szybka zbieżność \n",
    "- uogólnia się na $\\mathbb{R}^n$ $f: \\mathbb{R}^n \\rightarrow \\mathbb{R}^n$\n",
    "### Wady:\n",
    "- założenia: $f_oC^2(\\mathbb{R}), \\forall_i f'(x_i) \\neq 0$, dobrze jeśli $f'(x^*) \\neq 0$\n",
    "- nie zawsze zbiega\n",
    "- potrzebne dobre przybliżenia początkowe $x_o$\n",
    "- potrzebna jest pochodna"
   ]
  },
  {
   "cell_type": "markdown",
   "metadata": {},
   "source": []
  },
  {
   "cell_type": "markdown",
   "metadata": {},
   "source": [
    "### Co jesli nie chcemy liczyć $f'$\n",
    "- ustalamy $h>0$\n",
    "- zamieniamy $x_{i+1} = x_i - \\frac{f(x_i)}{f'(x_i)} \\leftarrow \\begin{cases} P_i := \\frac{f(x_i+h)-f(x_i)}{h} \\\\\n",
    "x_{i+1} = x_i - \\frac{f(x_i)}{P_i} \\end{cases}$"
   ]
  },
  {
   "cell_type": "markdown",
   "metadata": {},
   "source": [
    "## Kryteria stopu\n",
    "- ustalay z góry ilość iteracji\n",
    "- kryterium na wartość funkcji: $|f(x_i)| < \\varepsilon$ dla ustalonego $\\varepsilon > 0$\n",
    "- zakres/zmiana przybliżenia jest mała $|b_i - a_i| < \\delta$, $|x_{i+1}-x_i| < \\delta$,  $\\delta > 0$ ustalone"
   ]
  },
  {
   "cell_type": "markdown",
   "metadata": {},
   "source": [
    "##### Można łączyć, np:\n",
    "$(|x_{i+1}-x_i| < \\delta \\land |f(x_{i+1})| < \\varepsilon) \\lor (i < n)\\\\$\n",
    "$|b_i - n_i| < \\delta$"
   ]
  },
  {
   "cell_type": "markdown",
   "metadata": {},
   "source": [
    "# Liniowe zadanie najmniejszych kwadratów\n",
    "Rozważmy układ równań $Ax = b\\\\$\n",
    "gdzie $A$ - macierz $m \\times n \\land m > n\\\\$\n",
    "$rank(A) = n\\\\$\n",
    "$x \\in \\mathbb{R}^n$, $b \\in \\mathbb{R}^m$\n",
    "#### Jest za mało $x$, za dużo równań więc się nie da rozwiązać\n",
    "Idea: zamiast szukać $x: Ax = b\\\\$\n",
    "Szukamy $x: ||Ax-b||_2 = min_{y \\in \\mathbb{R}^n}||Ay-b||_2$"
   ]
  },
  {
   "cell_type": "markdown",
   "metadata": {},
   "source": [
    "#### Motywacja\n",
    "$\\{ (t_i, f_i)\\}^m_i=1$ <- dane eksperymantalne, zaburzone\n",
    "##### Teoria:\n",
    "$f(t) = a + bt + ct^2 =: x_0 + x_1t + x_2t^2$\n",
    "##### Szukamy $x_0, x_1, x_2$ z układu\n",
    "$ x_0 + x_1t + x_2t^2 = f_i \\\\ i = 1, ... m$"
   ]
  },
  {
   "cell_type": "markdown",
   "metadata": {},
   "source": [
    "##### Dpasowujemy\n",
    "$x = [x_0, x_1, x_2]$ t.że\n",
    "$\\\\ ||Ax-b||_2 = (\\sum^m_{i=1} (x_0 + t_ix_1 + t_i^2x_2 = f_i)^2)^{\\frac{1}{2}}\\\\$\n",
    "jest jak najmniejszy"
   ]
  },
  {
   "cell_type": "markdown",
   "metadata": {},
   "source": [
    "### Twierdzenie\n",
    "Niech $A$ - macierz rzeczywsita $m\\times n$, $m > n$, $rank(A) = n$, $b\\in \\mathbb{R}^m\\\\$\n",
    "Wówczas $x \\in \\mathbb{R}^n$, taki że $||Ax-b||_2$ jest najmniejsze, jest rozwiązaniem układu $A^TAx = A^Tb$"
   ]
  },
  {
   "cell_type": "markdown",
   "metadata": {},
   "source": [
    "#### Operacje blokowe na macierzach - pewne uwagi.\n",
    "$AB = \\begin{bmatrix} A_1 \\\\ A_2 \\\\ ... \\\\ A_m \\end{bmatrix} \\cdot \\begin{bmatrix} B_1 & B_2 & ... & B_n \\end{bmatrix} = [<A_i, B_j>]_{i = 1, ... m; j = 1, ... n}$\n",
    "$\\\\A_k$, $B_k$ - wiersze i kolumny macierzy"
   ]
  },
  {
   "cell_type": "markdown",
   "metadata": {},
   "source": [
    "Dla wektora $x$\n",
    "$$ Ax = \\begin{bmatrix} <A_1, x> \\\\ <A_2, x> \\\\ ... \\\\ <A_m, x> \\end{bmatrix}$$"
   ]
  },
  {
   "cell_type": "code",
   "execution_count": null,
   "metadata": {},
   "outputs": [],
   "source": [
    "import numpy\n",
    "numpy.linalg.lstsq(A, b)"
   ]
  }
 ],
 "metadata": {
  "language_info": {
   "name": "python"
  }
 },
 "nbformat": 4,
 "nbformat_minor": 2
}
