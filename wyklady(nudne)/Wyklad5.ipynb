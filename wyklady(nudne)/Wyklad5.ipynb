{
 "cells": [
  {
   "cell_type": "code",
   "execution_count": null,
   "metadata": {},
   "outputs": [],
   "source": []
  },
  {
   "cell_type": "markdown",
   "metadata": {},
   "source": [
    "$$f(x) = \\begin{cases}\n",
    "x^2 & x>0 \\\\\n",
    "2x & x<0\n",
    "\\end{cases} $$"
   ]
  },
  {
   "cell_type": "markdown",
   "metadata": {},
   "source": [
    "# Wykład 5 - rozwiązywanie układów równań"
   ]
  },
  {
   "cell_type": "markdown",
   "metadata": {},
   "source": [
    "### Eliminacja Gaussa\n",
    "Powiązane jakoś z rozkładem $A = LU$"
   ]
  },
  {
   "cell_type": "markdown",
   "metadata": {},
   "source": [
    "$$A = \\begin{bmatrix}\n",
    "2 & 3 & 4 \\\\\n",
    "4 & 11 & 14 \\\\\n",
    "6 & 29 & 43 \\end{bmatrix} ~~ \n",
    "\n",
    "\\begin{bmatrix} \n",
    "2 & 3 & 4 \\\\\n",
    "0 & 5 & 6 \\\\\n",
    "0 & 0 & 7 \\end{bmatrix} =: U$$"
   ]
  },
  {
   "cell_type": "markdown",
   "metadata": {},
   "source": [
    "$L^{-1}$ Uzyskujemy przez wymnożenie macierzy przez które diagonalizujemy macierz A (jak w rozkładzie $LDU$)\n",
    "\n",
    "$$ L = \\begin{bmatrix}\n",
    "1 & 0 & 0 \\\\\n",
    "2 & 1 & 0 \\\\\n",
    "3 & 4 & 1 \\end{bmatrix} $$"
   ]
  },
  {
   "cell_type": "markdown",
   "metadata": {},
   "source": [
    "Jakoś zateasowane że być może nam się zdarzy zrobić taki rozkład"
   ]
  },
  {
   "cell_type": "markdown",
   "metadata": {},
   "source": [
    "### Rozkład $LU = PA$\n",
    "(Zamienianie wierszy jeśli się nie da normalnego $A$) \n",
    "$\\\\P$ - macierz permutacji, w każdej kolumnie i wierszu jesy dokładnie 1 element 1, reszta to zera"
   ]
  },
  {
   "cell_type": "markdown",
   "metadata": {},
   "source": [
    "#### Przyczyny\n",
    "1) zerowy element diagonalny, np $A = \\begin{bmatrix} 0 & 2 \\\\ 3 & 4 \\end{bmatrix}$\n",
    "2) W trakcie\n",
    "$A = \\begin{bmatrix} 1 & 2 & 0 \\\\ 1 & 2 & 1 \\\\ 1 & 3 &1 \\end{bmatrix} ~~ \\begin{bmatrix} 1 & 2 & 0 \\\\ 0 & 0 & 1 \\\\ 0 & 1 &0 \\end{bmatrix}$\n",
    "3) Element diagonalny mały co do modułu - błędzy zaokrągleń itp"
   ]
  },
  {
   "cell_type": "markdown",
   "metadata": {},
   "source": [
    "#### Uwarunkowanie zadanie $Ax = b$\n",
    "##### Normy w $\\mathbb{R}^n$:\n",
    "$$||x||_k = (\\sum_n^{i=1}|x_i|^k)^{\\frac{1}{k}}$$\n",
    "$||x||_1 = \\sum^n_{i=1} |x_i|\\\\$\n",
    "Nasza norma, oparta na iloczynie skalarnym (są kąty): $||x||_2 = \\sqrt{\\sum^n_{i=1}x_i^2}\\\\$\n",
    "Norma nieskończona: $||x||_{\\inf} = {max}_{1 \\leq i \\leq n}|x_i|$"
   ]
  },
  {
   "cell_type": "markdown",
   "metadata": {},
   "source": [
    "##### Własności  norm:\n",
    "1) $||A|| = 0 \\iff A = 0\\\\$\n",
    "2) $||Ax|| \\leq ||A||\\cdot ||x||$"
   ]
  },
  {
   "cell_type": "markdown",
   "metadata": {},
   "source": [
    "#### DEF Wskaźnikiem uwarunkowania rzeczywistej kwadratowej macierzy $A$ nazwiemy:\n",
    "$${cond}(A) := ||A|| \\cdot ||A^{-1}||$$"
   ]
  },
  {
   "cell_type": "markdown",
   "metadata": {},
   "source": [
    "##### Uwagi:\n",
    "$${cond}(A) \\geq 1$$\n",
    "Macierz dobrze uwarunkowana - ${cond}(A)$ jest małe $\\\\$\n",
    "Macierz źle uwarunkowana - ${cond}(A)$ jest duże"
   ]
  },
  {
   "cell_type": "markdown",
   "metadata": {},
   "source": [
    "#### Macie zadanie $Ax = b$, $A$ - nieosobliwa $b \\neq 0  \\implies x \\neq 0$\n",
    "Licząc numerycznie, otrzymamy $\\widetilde{x}$, t. że $A\\widetilde{x} \\approx b$, ale $A\\widetilde{x} \\neq b$"
   ]
  },
  {
   "cell_type": "markdown",
   "metadata": {},
   "source": [
    "Otrzymaliśmy $\\widetilde{b} := A\\widetilde{x}, \\widetilde{b} \\approx b$"
   ]
  },
  {
   "cell_type": "markdown",
   "metadata": {},
   "source": [
    "##### Szukamy błąd bezwzględny\n",
    "$$ I = A \\cdot A^{-1}$$\n",
    "$$||x-\\widetilde{x}|| = ||I (x-\\widetilde{x})|| = ||(A \\cdot A^{-1}) (x-\\widetilde{x})|| \\leq ||A^{-1}|| \\cdot ||A(x-\\widetilde{x})||\n",
    "= ||A{-1}|| \\cdot ||b - \\widetilde{b}||$$"
   ]
  },
  {
   "cell_type": "markdown",
   "metadata": {},
   "source": [
    "##### Oszacowanie $\\frac{1}{||x||}$\n",
    "$$\\frac{1}{||x||} \\leq \\frac{||A||}{||b||}$$"
   ]
  },
  {
   "cell_type": "markdown",
   "metadata": {},
   "source": []
  },
  {
   "cell_type": "markdown",
   "metadata": {},
   "source": [
    "#### Czy $\\frac{||b-\\widetilde{b}||}{||b||} \\leq 1$?"
   ]
  },
  {
   "cell_type": "markdown",
   "metadata": {},
   "source": [
    "Jeśli to jest $>1$, to proponuję inny algorytm\n",
    "$${solve}(A, b) = 0 (=\\widetilde{x}) \\implies \\widetilde{b} = A\\widetilde{x} = A \\cdot 0 = 0$$\n",
    "Wtedy $\\frac{||b-\\widetilde{b}||}{||b||} = \\frac{||b-0||}{||b||} = 1$"
   ]
  },
  {
   "cell_type": "markdown",
   "metadata": {},
   "source": [
    "# Równania nieliniowe"
   ]
  },
  {
   "cell_type": "markdown",
   "metadata": {},
   "source": [
    "Zadanie znaleźć $x\\in \\mathbb{R}$, t że $f(x) = 0$ "
   ]
  },
  {
   "cell_type": "markdown",
   "metadata": {},
   "source": [
    "### NIE MA globalnych metod  zwracająych wszystkie rozwiązania w ogólym przypadku."
   ]
  },
  {
   "cell_type": "markdown",
   "metadata": {},
   "source": [
    "Ale są metody do różnych przypadków"
   ]
  },
  {
   "cell_type": "markdown",
   "metadata": {},
   "source": [
    "## 1. Metoda \"brutalna\"\n",
    "#### A) Wyznaczamy zbiór $x=[x_i]^n \\subset [a, b]$"
   ]
  },
  {
   "cell_type": "code",
   "execution_count": 2,
   "metadata": {},
   "outputs": [
    {
     "data": {
      "text/plain": [
       "array([ 0.        ,  1.11111111,  2.22222222,  3.33333333,  4.44444444,\n",
       "        5.55555556,  6.66666667,  7.77777778,  8.88888889, 10.        ])"
      ]
     },
     "execution_count": 2,
     "metadata": {},
     "output_type": "execute_result"
    }
   ],
   "source": [
    "import numpy\n",
    "a, b, n = 0, 10, 10\n",
    "X = numpy.linspace(a, b, n)\n",
    "X"
   ]
  },
  {
   "cell_type": "markdown",
   "metadata": {},
   "source": [
    "#### B) Liczymy $f(x) = [f(x_1), f(x_2), ..., f(x_n)]$\n",
    "#### C) Znajdujemy $j$ t. że |f(x_j)| = {min}_{1 \\leq i \\leq n} |f(x_i)|$\n",
    "#### D) $x_j$ jest przybliżeniem $x^*: f(x^*) = 0$"
   ]
  },
  {
   "cell_type": "markdown",
   "metadata": {},
   "source": [
    "### Problemy\n",
    "#### Wymaga dużo obliczeń do uzysania większej dokładności\n",
    "#### $\\|x_j - x^*| < \\frac{b-a}{n-1}$ \n",
    "#### Słabo się uogólnia na $\\mathbb{R}^n$"
   ]
  },
  {
   "cell_type": "markdown",
   "metadata": {},
   "source": [
    "Dobra jako początkowe przybliżenie dla innych metod"
   ]
  },
  {
   "cell_type": "markdown",
   "metadata": {},
   "source": [
    "## 2. Metoda bisekcji\n",
    "### Założenia\n",
    "- $f: [a, b] \\rightarrow \\mathbb{R}$\n",
    "- $f$ jest ciągła\n",
    "- istnieje dokładnie jedno $x^* \\in [a, b]$, t. że $f(x^*) = 0$\n",
    "- $f$ ma różne znaki na końcach przedziału $f(a) \\cdot f(b) < 0$"
   ]
  },
  {
   "cell_type": "markdown",
   "metadata": {},
   "source": [
    "Mamy parametry $f$ - funkcja, $a, b$ - brzegi przedziału\n",
    "### Powtarzaj do otrzymania satysfakcjonującej dokładności:"
   ]
  },
  {
   "cell_type": "markdown",
   "metadata": {},
   "source": [
    "- $ c = \\frac{n+b}{2}$\n",
    "- Jeśli $f(c) = 0$, zwróc $c$\n",
    "- elif $f(a) \\cdot f(c) < 0\\\\$\n",
    "$a = n$, $b = c$\n",
    "- elif $f(c) \\cdot f(b) < 0\\\\$ \n",
    "$n = c$, $b=b$"
   ]
  },
  {
   "cell_type": "markdown",
   "metadata": {},
   "source": [
    "### Zalety:\n",
    "1) Prosty algorytm\n",
    "2) Błąd $|e_n| := |c_n-x^*| \\leq \\frac{b-a}{2^n}\\\\$\n",
    "$|e_n| \\sim \\frac{1}{2}|e_{n-1}|$ "
   ]
  },
  {
   "cell_type": "markdown",
   "metadata": {},
   "source": [
    "### Wady:\n",
    "1. Jeśli pomiędzy $a$, $b$ jest kilka miejsc zerowych $a, b$ po tej samej stronie to nie zadziała\n",
    "2. Jeżeli nieciągłe to niedziała\n",
    "3. Jeżeli funkcja dodatatnia ale ma miejsca zerowe to nie znajdzie\n",
    "4. Nie uogólnia się na $\\mathbb{R}^n$"
   ]
  },
  {
   "cell_type": "markdown",
   "metadata": {},
   "source": []
  }
 ],
 "metadata": {
  "kernelspec": {
   "display_name": "Python 3",
   "language": "python",
   "name": "python3"
  },
  "language_info": {
   "codemirror_mode": {
    "name": "ipython",
    "version": 3
   },
   "file_extension": ".py",
   "mimetype": "text/x-python",
   "name": "python",
   "nbconvert_exporter": "python",
   "pygments_lexer": "ipython3",
   "version": "3.11.2"
  }
 },
 "nbformat": 4,
 "nbformat_minor": 2
}
