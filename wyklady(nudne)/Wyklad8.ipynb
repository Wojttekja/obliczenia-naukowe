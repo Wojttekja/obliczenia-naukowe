{
 "cells": [
  {
   "cell_type": "markdown",
   "metadata": {},
   "source": [
    "# Wykład 9\n",
    "## Odwrotna metoda potęgowa"
   ]
  },
  {
   "cell_type": "code",
   "execution_count": null,
   "metadata": {},
   "outputs": [],
   "source": [
    "def odwrotna_metoda_potegowa(A, x_0, M):\n",
    "    x = x_0\n",
    "    for k in range(1, M+1):\n",
    "       y = A**(-1) * x\n",
    "       r = Fi(y)/Fi(x)\n",
    "       x = y / ||y||\n",
    "    return (k, x, 1/r)"
   ]
  },
  {
   "cell_type": "code",
   "execution_count": null,
   "metadata": {},
   "outputs": [],
   "source": [
    "def maly_upgrade(A, x_0, M):\n",
    "    x  = x_0\n",
    "    L, U, P = lu(A) # jakiś rozkład, np LU\n",
    "    for k in range(1, M+1):\n",
    "        # y = numpy.linalg.solve(A, x)\n",
    "        y = solve_lu(L, U, P, x)\n",
    "        r = Fi(y)/Fi(x)\n",
    "        x = y/||y||\n",
    "    return (k, x, 1/r)"
   ]
  },
  {
   "cell_type": "markdown",
   "metadata": {},
   "source": [
    "## Macierze rzadkie w pythonie"
   ]
  },
  {
   "cell_type": "code",
   "execution_count": 1,
   "metadata": {},
   "outputs": [],
   "source": [
    "import scipy"
   ]
  },
  {
   "cell_type": "code",
   "execution_count": null,
   "metadata": {},
   "outputs": [],
   "source": [
    "import scipy.sparse\n",
    "\n",
    "\n",
    "scipy.sparse.coo_array # - format współrzędnych, inicjujemy macierzą (rzadką gęsta) albo (V, (I, J)) jak w definicji\n",
    "scipy.sparse.csr_array # - format spakowanych wierszy, inicjujemy inną macierzą, (V, I, J) zgodnie z formatem, \n",
    "#                           (V, (I, J)) zgodnie z formatem współrzędnych\n",
    "scipy.sparse.csc_array # - format spakowanych kolumn, inicjujemy jak wcześniej\n"
   ]
  },
  {
   "cell_type": "markdown",
   "metadata": {},
   "source": []
  }
 ],
 "metadata": {
  "kernelspec": {
   "display_name": "Python 3",
   "language": "python",
   "name": "python3"
  },
  "language_info": {
   "codemirror_mode": {
    "name": "ipython",
    "version": 3
   },
   "file_extension": ".py",
   "mimetype": "text/x-python",
   "name": "python",
   "nbconvert_exporter": "python",
   "pygments_lexer": "ipython3",
   "version": "3.11.2"
  }
 },
 "nbformat": 4,
 "nbformat_minor": 2
}
