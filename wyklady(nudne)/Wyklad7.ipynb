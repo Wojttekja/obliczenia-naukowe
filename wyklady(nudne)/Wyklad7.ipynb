{
 "cells": [
  {
   "cell_type": "markdown",
   "metadata": {},
   "source": [
    "# Wykład 7"
   ]
  },
  {
   "cell_type": "markdown",
   "metadata": {},
   "source": [
    "# Rozkład QR w LZNK\n",
    "1. Obliczamy $w = Q^Tb$; $0(m^2)$\n",
    "2. Obcinamy $v = [w_1, ..., w_n]; $0(1)/0(n)$\n",
    "3. Rozwiązujemy $\\widetilde{R}x = v$ - układ z macierzą górnotrójkątną $0(n^2)$"
   ]
  },
  {
   "cell_type": "markdown",
   "metadata": {},
   "source": [
    "## Uwaga:\n",
    "co z rozwiązaniem $A^TAx = A^tb$\n",
    "Nieefektywne w sensie kosztu czasowego i mniejsza dokładność"
   ]
  },
  {
   "cell_type": "markdown",
   "metadata": {},
   "source": [
    "## Rozkład macierzy, przekszatałcenie householdera\n",
    "### Cel:  otrzymanie $Q$, $R$\n",
    "$Q^TQ-I$\n"
   ]
  },
  {
   "cell_type": "markdown",
   "metadata": {},
   "source": [
    "#### Lemat\n",
    "Niech $Q = u_n \\cdot U_{n-1} \\cdot ... \\cdot U_1$, gdzie $U_i$ - macierz kwadratowa $m \\times m\\\\$\n",
    "oraz $U_i^TU_i = U_iU_i^T$ dla $i = 1, ..., n$ Wówczas $Q^TQ = I$"
   ]
  },
  {
   "cell_type": "markdown",
   "metadata": {},
   "source": [
    "1. $V_1 = I - 2w_1 \\cdo w_1^T$\n",
    "$$V_1A = "
   ]
  }
 ],
 "metadata": {
  "language_info": {
   "name": "python"
  }
 },
 "nbformat": 4,
 "nbformat_minor": 2
}
