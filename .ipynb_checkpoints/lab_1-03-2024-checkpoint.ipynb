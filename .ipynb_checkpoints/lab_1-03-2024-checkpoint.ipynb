{
 "cells": [
  {
   "cell_type": "markdown",
   "id": "99207ec9",
   "metadata": {},
   "source": [
    "# Tablice"
   ]
  },
  {
   "cell_type": "code",
   "execution_count": 7,
   "id": "7d7db3ec",
   "metadata": {},
   "outputs": [
    {
     "name": "stdout",
     "output_type": "stream",
     "text": [
      "1! = 1\n",
      "2! = 2\n",
      "3! = 6\n",
      "4! = 24\n",
      "5! = 120\n",
      "6! = 720\n",
      "7! = 5040\n",
      "8! = 40320\n",
      "9! = 362880\n",
      "10! = 3628800\n",
      "11! = 39916800\n",
      "12! = 479001600\n",
      "13! = 6227020800\n",
      "14! = 87178291200\n",
      "15! = 1307674368000\n",
      "16! = 20922789888000\n",
      "17! = 355687428096000\n",
      "18! = 6402373705728000\n",
      "19! = 121645100408832000\n",
      "20! = 2432902008176640000\n",
      "21! = 51090942171709440000\n",
      "22! = 1124000727777607680000\n",
      "23! = 25852016738884976640000\n",
      "24! = 620448401733239439360000\n",
      "25! = 15511210043330985984000000\n",
      "26! = 403291461126605635584000000\n",
      "27! = 10888869450418352160768000000\n",
      "28! = 304888344611713860501504000000\n",
      "29! = 8841761993739701954543616000000\n",
      "30! = 265252859812191058636308480000000\n",
      "31! = 8222838654177922817725562880000000\n",
      "32! = 263130836933693530167218012160000000\n",
      "33! = 8683317618811886495518194401280000000\n",
      "34! = 295232799039604140847618609643520000000\n",
      "35! = 10333147966386144929666651337523200000000\n",
      "36! = 371993326789901217467999448150835200000000\n",
      "37! = 13763753091226345046315979581580902400000000\n",
      "38! = 523022617466601111760007224100074291200000000\n",
      "39! = 20397882081197443358640281739902897356800000000\n",
      "40! = 815915283247897734345611269596115894272000000000\n",
      "41! = 33452526613163807108170062053440751665152000000000\n",
      "42! = 1405006117752879898543142606244511569936384000000000\n",
      "43! = 60415263063373835637355132068513997507264512000000000\n",
      "44! = 2658271574788448768043625811014615890319638528000000000\n",
      "45! = 119622220865480194561963161495657715064383733760000000000\n",
      "46! = 5502622159812088949850305428800254892961651752960000000000\n",
      "47! = 258623241511168180642964355153611979969197632389120000000000\n",
      "48! = 12413915592536072670862289047373375038521486354677760000000000\n",
      "49! = 608281864034267560872252163321295376887552831379210240000000000\n"
     ]
    }
   ],
   "source": [
    "j = 1\n",
    "for i in range(1, 50):\n",
    "    j *= i\n",
    "    print(f\"{i}! = {j}\")"
   ]
  },
  {
   "cell_type": "code",
   "execution_count": 5,
   "id": "02a547cc",
   "metadata": {},
   "outputs": [
    {
     "name": "stdout",
     "output_type": "stream",
     "text": [
      "0.333\n"
     ]
    }
   ],
   "source": [
    "x = 1/3\n",
    "print(f\"{x:.3f}\")"
   ]
  },
  {
   "cell_type": "code",
   "execution_count": 6,
   "id": "5967e158",
   "metadata": {},
   "outputs": [
    {
     "data": {
      "text/plain": [
       "1.2246467991473532e-16"
      ]
     },
     "execution_count": 6,
     "metadata": {},
     "output_type": "execute_result"
    }
   ],
   "source": [
    "import math\n",
    "math.sin(math.pi)"
   ]
  },
  {
   "cell_type": "markdown",
   "id": "a8272ce8",
   "metadata": {},
   "source": [
    "# obliczenia symboliczne"
   ]
  },
  {
   "cell_type": "code",
   "execution_count": 10,
   "id": "725b19c2",
   "metadata": {},
   "outputs": [],
   "source": [
    "import sympy"
   ]
  },
  {
   "cell_type": "code",
   "execution_count": 11,
   "id": "65fdf983",
   "metadata": {},
   "outputs": [
    {
     "name": "stdout",
     "output_type": "stream",
     "text": [
      "1.4142135623730951\n",
      "sqrt(2)\n"
     ]
    }
   ],
   "source": [
    "print(math.sqrt(2))\n",
    "print(sympy.sqrt(2))"
   ]
  },
  {
   "cell_type": "code",
   "execution_count": 12,
   "id": "38b9d174",
   "metadata": {},
   "outputs": [
    {
     "name": "stdout",
     "output_type": "stream",
     "text": [
      "2.0000000000000004\n",
      "2\n"
     ]
    }
   ],
   "source": [
    "print(math.sqrt(2)**2)\n",
    "print(sympy.sqrt(2)**2)"
   ]
  },
  {
   "cell_type": "code",
   "execution_count": 13,
   "id": "e876b7eb",
   "metadata": {},
   "outputs": [
    {
     "data": {
      "text/latex": [
       "$\\displaystyle \\pi$"
      ],
      "text/plain": [
       "pi"
      ]
     },
     "execution_count": 13,
     "metadata": {},
     "output_type": "execute_result"
    }
   ],
   "source": [
    "sympy.pi"
   ]
  },
  {
   "cell_type": "code",
   "execution_count": 14,
   "id": "1d7bb0f7",
   "metadata": {},
   "outputs": [
    {
     "name": "stdout",
     "output_type": "stream",
     "text": [
      "3*sqrt(3)\n",
      "5.196152422706632\n"
     ]
    }
   ],
   "source": [
    "print(sympy.sqrt(27))\n",
    "print(float(sympy.sqrt(27)))"
   ]
  },
  {
   "cell_type": "code",
   "execution_count": 18,
   "id": "0166903a",
   "metadata": {},
   "outputs": [
    {
     "name": "stdout",
     "output_type": "stream",
     "text": [
      "1/2\n",
      "962419240369075/4503599627370496\n"
     ]
    }
   ],
   "source": [
    "print(sympy.Rational(0.5))\n",
    "print(sympy.Rational(00.2137))"
   ]
  },
  {
   "cell_type": "markdown",
   "id": "8ac3fd2f",
   "metadata": {},
   "source": [
    "# Ułamki zwykłe"
   ]
  },
  {
   "cell_type": "code",
   "execution_count": 21,
   "id": "9db9bfce",
   "metadata": {},
   "outputs": [
    {
     "data": {
      "text/latex": [
       "$\\displaystyle \\frac{7}{6}$"
      ],
      "text/plain": [
       "7/6"
      ]
     },
     "execution_count": 21,
     "metadata": {},
     "output_type": "execute_result"
    }
   ],
   "source": [
    "sympy.Rational(7, 6)"
   ]
  },
  {
   "cell_type": "markdown",
   "id": "0c19ca0d",
   "metadata": {},
   "source": [
    "# Zadania\n",
    "## Zadanie 1.1"
   ]
  },
  {
   "cell_type": "code",
   "execution_count": 33,
   "id": "ba90337d",
   "metadata": {},
   "outputs": [
    {
     "name": "stdout",
     "output_type": "stream",
     "text": [
      "5e-324 -1074\n",
      "0.0 -1075\n"
     ]
    }
   ],
   "source": [
    "e = 2**-1\n",
    "k = -1\n",
    "while e > 0:\n",
    "    e *= 2**-1\n",
    "    k -= 1\n",
    "    \n",
    "print(2**(k+1), k+1)\n",
    "print(e, k)"
   ]
  },
  {
   "cell_type": "markdown",
   "id": "5319b988",
   "metadata": {},
   "source": [
    "## Zadanie 1.2"
   ]
  },
  {
   "cell_type": "code",
   "execution_count": 64,
   "id": "7b3087bd",
   "metadata": {},
   "outputs": [
    {
     "name": "stdout",
     "output_type": "stream",
     "text": [
      "k = 1023\n",
      "e^k = 89884656743115795386465259539451236680898848947115328636715040578866337902750481566354238661203768010560056939935696678829394884407208311246423715319737062188883946712432742638151109800623047059726541476042502884419075341171231440736956555270413618581675255342293149119973622969239858152417678164812112068608\n"
     ]
    }
   ],
   "source": [
    "e = 2\n",
    "k = 1\n",
    "for _ in range(2000):\n",
    "    e *= 2\n",
    "    k += 1\n",
    "    try:\n",
    "        float(e)\n",
    "    except OverflowError:\n",
    "        print(\"k =\", k-1)\n",
    "        print(\"e^k =\", 2**(k-1))\n",
    "        break"
   ]
  },
  {
   "cell_type": "markdown",
   "id": "f9c7cf3b",
   "metadata": {},
   "source": [
    "Odp: k = 1023 e^k = 8.98846567431158e+307"
   ]
  },
  {
   "cell_type": "markdown",
   "id": "cb050234",
   "metadata": {},
   "source": [
    "## Zadanie 1.3"
   ]
  },
  {
   "cell_type": "code",
   "execution_count": 37,
   "id": "4464aad0",
   "metadata": {},
   "outputs": [
    {
     "name": "stdout",
     "output_type": "stream",
     "text": [
      "2.220446049250313e-16 -52 1.0000000000000002\n",
      "1.1102230246251565e-16 -53 1.0\n"
     ]
    }
   ],
   "source": [
    "# a\n",
    "e = 2**-1\n",
    "k = -1\n",
    "while float(1+e) != float(1):\n",
    "    e *= 2**-1\n",
    "    k -= 1\n",
    "print(2**(k+1), k+1, float(1+(2**(k+1))))\n",
    "print(e, k, float(1+e))\n",
    "    "
   ]
  },
  {
   "cell_type": "code",
   "execution_count": 39,
   "id": "5684dc61",
   "metadata": {},
   "outputs": [
    {
     "name": "stdout",
     "output_type": "stream",
     "text": [
      "6.462348535570529e-27 -87 1.0000000000000002e-10\n",
      "3.2311742677852644e-27 -88 1e-10\n"
     ]
    }
   ],
   "source": [
    "# b\n",
    "e = 2**-1\n",
    "k = -1\n",
    "while float(10**-10+e) != float(10**-10):\n",
    "    e *= 2**-1\n",
    "    k -= 1\n",
    "print(2**(k+1), k+1, float(10**-10+(2**(k+1))))\n",
    "print(e, k, float(10**-10+e))\n",
    "    "
   ]
  },
  {
   "cell_type": "markdown",
   "id": "52bb51c2",
   "metadata": {},
   "source": [
    "## Zadanie 1.4"
   ]
  },
  {
   "cell_type": "code",
   "execution_count": 60,
   "id": "425f4196",
   "metadata": {},
   "outputs": [
    {
     "name": "stdout",
     "output_type": "stream",
     "text": [
      "0.5000000000000000000000000000000000000000000000000000000000000000000000000000000000000000000000000000\n",
      "0.3333333333333333148296162562473909929394721984863281250000000000000000000000000000000000000000000000\n",
      "0.2000000000000000111022302462515654042363166809082031250000000000000000000000000000000000000000000000\n",
      "0.1250000000000000000000000000000000000000000000000000000000000000000000000000000000000000000000000000\n",
      "0.1000000000000000055511151231257827021181583404541015625000000000000000000000000000000000000000000000\n",
      "0.0625000000000000000000000000000000000000000000000000000000000000000000000000000000000000000000000000\n",
      "0.0100000000000000002081668171172168513294309377670288085937500000000000000000000000000000000000000000\n"
     ]
    }
   ],
   "source": [
    "for i in [2, 3, 5, 8, 10, 16, 100]:\n",
    "    print(f\"{float(1/i):.100f}\")\n",
    "# liczby inne niż potęgi dwójki czyli 1/3, 1/5, 1/10, 1/100 są niedokładnie"
   ]
  },
  {
   "cell_type": "markdown",
   "id": "1e543a06",
   "metadata": {},
   "source": [
    "## Zadanie 1.5"
   ]
  },
  {
   "cell_type": "code",
   "execution_count": 68,
   "id": "9d856aec",
   "metadata": {},
   "outputs": [
    {
     "name": "stdout",
     "output_type": "stream",
     "text": [
      "1.0000000000000000000000000000000000000000000000000000000000000000000000000000000000000000000000000000\n",
      "0.5000000000000000000000000000000000000000000000000000000000000000000000000000000000000000000000000000\n",
      "0.3333333333333333148296162562473909929394721984863281250000000000000000000000000000000000000000000000\n",
      "0.2500000000000000000000000000000000000000000000000000000000000000000000000000000000000000000000000000\n",
      "0.2000000000000000111022302462515654042363166809082031250000000000000000000000000000000000000000000000\n",
      "0.1666666666666666574148081281236954964697360992431640625000000000000000000000000000000000000000000000\n",
      "0.1428571428571428492126926812488818541169166564941406250000000000000000000000000000000000000000000000\n",
      "0.1250000000000000000000000000000000000000000000000000000000000000000000000000000000000000000000000000\n",
      "0.1111111111111111049432054187491303309798240661621093750000000000000000000000000000000000000000000000\n",
      "0.1000000000000000055511151231257827021181583404541015625000000000000000000000000000000000000000000000\n",
      "0.0909090909090909116141432377844466827809810638427734375000000000000000000000000000000000000000000000\n",
      "0.0833333333333333287074040640618477482348680496215820312500000000000000000000000000000000000000000000\n",
      "0.0769230769230769273470116331736790016293525695800781250000000000000000000000000000000000000000000000\n",
      "0.0714285714285714246063463406244409270584583282470703125000000000000000000000000000000000000000000000\n",
      "0.0666666666666666657414808128123695496469736099243164062500000000000000000000000000000000000000000000\n"
     ]
    }
   ],
   "source": [
    "for i in range(1, 16):\n",
    "    print(f\"{(1/i):.100f}\")"
   ]
  },
  {
   "cell_type": "markdown",
   "id": "1d8cf831",
   "metadata": {},
   "source": [
    "## Zadanie 1.6"
   ]
  },
  {
   "cell_type": "markdown",
   "id": "743c3bad",
   "metadata": {},
   "source": [
    "Odp 1.5 : pierwsze 17 liczb"
   ]
  },
  {
   "cell_type": "code",
   "execution_count": 80,
   "id": "b243efa6",
   "metadata": {},
   "outputs": [
    {
     "ename": "TypeError",
     "evalue": "float() argument must be a string or a real number, not 'complex'",
     "output_type": "error",
     "traceback": [
      "\u001b[0;31m---------------------------------------------------------------------------\u001b[0m",
      "\u001b[0;31mTypeError\u001b[0m                                 Traceback (most recent call last)",
      "Cell \u001b[0;32mIn [80], line 1\u001b[0m\n\u001b[0;32m----> 1\u001b[0m \u001b[38;5;28mprint\u001b[39m(\u001b[38;5;28;43mfloat\u001b[39;49m\u001b[43m(\u001b[49m\u001b[43m(\u001b[49m\u001b[38;5;241;43m-\u001b[39;49m\u001b[38;5;241;43m1\u001b[39;49m\u001b[43m)\u001b[49m\u001b[38;5;241;43m*\u001b[39;49m\u001b[38;5;241;43m*\u001b[39;49m\u001b[38;5;241;43m0.5\u001b[39;49m\u001b[43m)\u001b[49m)\n",
      "\u001b[0;31mTypeError\u001b[0m: float() argument must be a string or a real number, not 'complex'"
     ]
    }
   ],
   "source": [
    "print(float((-1)**0.5))"
   ]
  },
  {
   "cell_type": "code",
   "execution_count": 90,
   "id": "a33e9c48",
   "metadata": {},
   "outputs": [
    {
     "name": "stdout",
     "output_type": "stream",
     "text": [
      "nan\n",
      "nan\n"
     ]
    }
   ],
   "source": [
    "from math import inf\n",
    "print(inf/inf)\n",
    "print((2**inf)/(2**inf))\n"
   ]
  },
  {
   "cell_type": "markdown",
   "id": "470f0fda",
   "metadata": {},
   "source": [
    "## Zadanie 1.7"
   ]
  },
  {
   "cell_type": "code",
   "execution_count": null,
   "id": "1f5951f2",
   "metadata": {},
   "outputs": [],
   "source": []
  }
 ],
 "metadata": {
  "kernelspec": {
   "display_name": "Python 3 (ipykernel)",
   "language": "python",
   "name": "python3"
  },
  "language_info": {
   "codemirror_mode": {
    "name": "ipython",
    "version": 3
   },
   "file_extension": ".py",
   "mimetype": "text/x-python",
   "name": "python",
   "nbconvert_exporter": "python",
   "pygments_lexer": "ipython3",
   "version": "3.11.2"
  }
 },
 "nbformat": 4,
 "nbformat_minor": 5
}
